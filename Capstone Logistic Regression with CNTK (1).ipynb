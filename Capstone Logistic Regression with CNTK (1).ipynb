{
 "cells": [
  {
   "cell_type": "markdown",
   "metadata": {},
   "source": [
    "## Load Train and Test Images"
   ]
  },
  {
   "cell_type": "code",
   "execution_count": 1,
   "metadata": {},
   "outputs": [
    {
     "name": "stdout",
     "output_type": "stream",
     "text": [
      "C:\\Users\\A702628\\OneDrive - Atos\\Microsoft Capstone IA\n",
      "988\n",
      "988\n",
      "659\n",
      "659\n"
     ]
    }
   ],
   "source": [
    "import os\n",
    "import numpy as np\n",
    "\n",
    "\n",
    "print(os.getcwd())\n",
    "\n",
    "train_img_dir = os.getcwd() + '/Capstone data/train/'\n",
    "test_img_dir = os.getcwd() + '/Capstone data/test/'\n",
    "\n",
    "#spectrogram of current \n",
    "train_img_names_c = [x for x in os.listdir(train_img_dir) if x.endswith('_c.png')]\n",
    "\n",
    "#spectrogram of voltage\n",
    "train_img_names_v = [x for x in os.listdir(train_img_dir) if x.endswith('_v.png')]\n",
    "\n",
    "#spectrogram of current \n",
    "test_img_names_c = [x for x in os.listdir(test_img_dir) if x.endswith('_c.png')]\n",
    "\n",
    "#spectrogram of voltage\n",
    "test_img_names_v = [x for x in os.listdir(test_img_dir) if x.endswith('_v.png')]\n",
    "\n",
    "\n",
    "print(len(train_img_names_c))\n",
    "print(len(train_img_names_v))\n",
    "\n",
    "print(len(test_img_names_c))\n",
    "print(len(test_img_names_v))\n",
    "\n"
   ]
  },
  {
   "cell_type": "code",
   "execution_count": 2,
   "metadata": {},
   "outputs": [
    {
     "name": "stderr",
     "output_type": "stream",
     "text": [
      "C:\\Users\\A702628\\AppData\\Local\\Continuum\\anaconda3\\lib\\site-packages\\skimage\\viewer\\utils\\core.py:10: UserWarning: Recommended matplotlib backend is `Agg` for full skimage.viewer functionality.\n",
      "  warn(\"Recommended matplotlib backend is `Agg` for full \"\n"
     ]
    },
    {
     "name": "stdout",
     "output_type": "stream",
     "text": [
      "988\n",
      "all_train_images.shape (988, 128, 118)\n",
      "all_test_images.shape (659, 128, 118)\n"
     ]
    }
   ],
   "source": [
    "from skimage import io\n",
    "from skimage.color import rgb2gray\n",
    "from skimage.viewer import ImageViewer\n",
    "import matplotlib.pyplot as plt\n",
    "\n",
    "from scipy import misc\n",
    "import cv2\n",
    "\n",
    "\n",
    "\n",
    "\n",
    "print(len(train_img_names_c))\n",
    "\n",
    "all_train_images = np.ones((len(train_img_names_c), 128, 118)) #if as_grey=True\n",
    "all_test_images = np.ones((len(test_img_names_c), 128, 118)) #if as_grey=True\n",
    "\n",
    "\n",
    "i = 0\n",
    "for im in train_img_names_c:\n",
    "\n",
    "    # Load an color image in grayscale\n",
    "    my_image = cv2.imread(train_img_dir + '/' + im,0)\n",
    "\n",
    "\n",
    "    all_train_images[i] = my_image\n",
    "    i = i + 1\n",
    "\n",
    "    \n",
    "i = 0\n",
    "for im in test_img_names_c:\n",
    "    #print(im)\n",
    "    my_image = cv2.imread(test_img_dir + '/' + im,0)\n",
    "\n",
    "\n",
    "    all_test_images[i] = my_image\n",
    "    i = i + 1    \n",
    "\n",
    "\n",
    "print(\"all_train_images.shape {0}\".format(all_train_images.shape))\n",
    "print(\"all_test_images.shape {0}\".format(all_test_images.shape))\n",
    "\n",
    "\n",
    "# look at the image\n",
    "#plt.imshow(my_image)"
   ]
  },
  {
   "cell_type": "code",
   "execution_count": 3,
   "metadata": {},
   "outputs": [
    {
     "name": "stdout",
     "output_type": "stream",
     "text": [
      "[[ 30.  30.  30. ...  30.  30.  30.]\n",
      " [ 30.  30.  30. ...  30.  30.  30.]\n",
      " [ 30.  30.  30. ...  30.  30.  30.]\n",
      " ...\n",
      " [ 77.  73.  71. ... 194. 195. 200.]\n",
      " [ 78.  81.  82. ... 212. 212. 205.]\n",
      " [ 69.  63.  62. ... 179. 181. 185.]]\n"
     ]
    },
    {
     "data": {
      "text/plain": [
       "(-0.5, 117.5, 127.5, -0.5)"
      ]
     },
     "execution_count": 3,
     "metadata": {},
     "output_type": "execute_result"
    },
    {
     "data": {
      "image/png": "[encoded data removed]",
      "text/plain": [
       "<Figure size 432x288 with 1 Axes>"
      ]
     },
     "metadata": {},
     "output_type": "display_data"
    }
   ],
   "source": [
    "sample_number = 12\n",
    "print(all_train_images[sample_number])\n",
    "plt.imshow(all_train_images[sample_number], cmap=\"gray_r\")\n",
    "plt.axis('off')\n"
   ]
  },
  {
   "cell_type": "markdown",
   "metadata": {},
   "source": [
    "## Reshape"
   ]
  },
  {
   "cell_type": "code",
   "execution_count": 4,
   "metadata": {},
   "outputs": [
    {
     "name": "stdout",
     "output_type": "stream",
     "text": [
      "\n",
      "**************************\n",
      "all_train_images.shape (988, 128, 118)\n",
      "data_train shape (988, 15104)\n",
      "[[ 38.  47.  51. ... 179. 184. 197.]\n",
      " [ 30.  30.  30. ... 177. 183. 196.]\n",
      " [ 62.  61.  64. ... 180. 187. 204.]\n",
      " ...\n",
      " [ 30.  30.  30. ... 180. 186. 200.]\n",
      " [ 67.  68.  66. ... 152. 159. 179.]\n",
      " [ 74.  61.  46. ... 153. 165. 159.]]\n",
      "**************************\n",
      "\n",
      "\n",
      "**************************\n",
      "all_test_images.shape (659, 128, 118)\n",
      "data_test shape (659, 15104)\n",
      "[[ 84.  81.  77. ... 179. 179. 172.]\n",
      " [ 30.  30.  30. ... 180. 181. 180.]\n",
      " [ 30.  30.  30. ... 152. 153. 148.]\n",
      " ...\n",
      " [ 56.  61.  62. ... 180. 180. 174.]\n",
      " [ 30.  30.  30. ... 179. 188. 205.]\n",
      " [ 70.  71.  69. ... 152. 154. 162.]]\n",
      "**************************\n",
      "\n"
     ]
    }
   ],
   "source": [
    "# To apply a classifier on this data, we need to flatten the image, to\n",
    "# turn the data in a (samples, feature) matrix:\n",
    "\n",
    "print(\"\\n**************************\")\n",
    "n_samples = len(all_train_images)\n",
    "\n",
    "print(\"all_train_images.shape {0}\".format(all_train_images.shape))\n",
    "data_train = all_train_images.reshape((n_samples, 15104)) #988, 15104, 4\n",
    "\n",
    "print(\"data_train shape {0}\".format(data_train.shape))\n",
    "print(data_train[:10])\n",
    "\n",
    "print(\"**************************\\n\")\n",
    "\n",
    "\n",
    "print(\"\\n**************************\")\n",
    "n_samples = len(all_test_images)\n",
    "\n",
    "print(\"all_test_images.shape {0}\".format(all_test_images.shape))\n",
    "data_test = all_test_images.reshape((n_samples, 15104)) #988, 15104, 4\n",
    "\n",
    "print(\"data_test shape {0}\".format(data_test.shape))\n",
    "print(data_test[:10])\n",
    "\n",
    "print(\"**************************\\n\")\n",
    "\n",
    "\n"
   ]
  },
  {
   "cell_type": "markdown",
   "metadata": {},
   "source": [
    "## Load Train labels"
   ]
  },
  {
   "cell_type": "code",
   "execution_count": 5,
   "metadata": {},
   "outputs": [
    {
     "name": "stdout",
     "output_type": "stream",
     "text": [
      "988\n",
      "(988, 2)\n"
     ]
    }
   ],
   "source": [
    "from numpy import genfromtxt\n",
    "\n",
    "\n",
    "train_labels_dir = os.getcwd() + '/'\n",
    "\n",
    "train_labels = genfromtxt(train_labels_dir + 'train_labels.csv', delimiter=',', skip_header=1)\n",
    "\n",
    "print(len(train_labels))\n",
    "print(train_labels.shape)\n",
    "\n"
   ]
  },
  {
   "cell_type": "code",
   "execution_count": 6,
   "metadata": {},
   "outputs": [],
   "source": [
    "from sklearn.model_selection import train_test_split\n",
    "\n",
    "x_train,x_test,y_train,y_test = train_test_split(data_train, train_labels, test_size = 0.3, random_state = 54)"
   ]
  },
  {
   "cell_type": "code",
   "execution_count": 7,
   "metadata": {},
   "outputs": [
    {
     "name": "stdout",
     "output_type": "stream",
     "text": [
      "(691, 15104)\n",
      "(691, 2)\n"
     ]
    }
   ],
   "source": [
    "print(x_train.shape)\n",
    "print(y_train.shape)"
   ]
  },
  {
   "cell_type": "code",
   "execution_count": 8,
   "metadata": {},
   "outputs": [
    {
     "data": {
      "text/plain": [
       "array([[1.000e+03, 8.000e+00],\n",
       "       [1.001e+03, 1.000e+00],\n",
       "       [1.002e+03, 8.000e+00],\n",
       "       ...,\n",
       "       [1.985e+03, 6.000e+00],\n",
       "       [1.986e+03, 9.000e+00],\n",
       "       [1.987e+03, 1.000e+01]])"
      ]
     },
     "execution_count": 8,
     "metadata": {},
     "output_type": "execute_result"
    }
   ],
   "source": [
    "train_labels"
   ]
  },
  {
   "cell_type": "markdown",
   "metadata": {},
   "source": [
    "## Saving for CNTK"
   ]
  },
  {
   "cell_type": "code",
   "execution_count": 9,
   "metadata": {},
   "outputs": [],
   "source": [
    "# Save the data files into a format compatible with CNTK text reader\n",
    "def savetxt(filename, data, hasLabels=True, labels=0):\n",
    "    dir = os.path.dirname(filename)\n",
    "\n",
    "    if not os.path.exists(dir):\n",
    "        os.makedirs(dir)\n",
    "    \n",
    "    print(\"Saving\", filename )\n",
    "    with open(filename, 'w') as f:\n",
    "        print(\"opened....\")\n",
    "        labels_ohe = list(map(' '.join, np.eye(11, dtype=np.uint).astype(str))) #for one hot encoding\n",
    "        index = 0\n",
    "        for row in data:            \n",
    "            row_str = row.astype(str)\n",
    "            if hasLabels:                               \n",
    "                label_str = labels_ohe[int(labels[index])]               \n",
    "            \n",
    "            feature_str = ' '.join(row_str)\n",
    "            \n",
    "            if hasLabels:\n",
    "                f.write('|labels {} |features {}\\n'.format(label_str, feature_str))\n",
    "            else:\n",
    "                f.write('|features {}\\n'.format(feature_str))\n",
    "            \n",
    "            index = index + 1\n"
   ]
  },
  {
   "cell_type": "markdown",
   "metadata": {},
   "source": [
    "## Saving Training/Test Data"
   ]
  },
  {
   "cell_type": "code",
   "execution_count": 10,
   "metadata": {},
   "outputs": [
    {
     "name": "stdout",
     "output_type": "stream",
     "text": [
      "Writing train text file...\n",
      "Saving C:\\Users\\A702628\\OneDrive - Atos\\Microsoft Capstone IA\\data/Out\\train.txt\n",
      "opened....\n",
      "Saving C:\\Users\\A702628\\OneDrive - Atos\\Microsoft Capstone IA\\data/Out\\test.txt\n",
      "opened....\n",
      "Done\n"
     ]
    }
   ],
   "source": [
    "train_labels_GT = train_labels[:,1] #Get Ground truth\n",
    "#train_labels_GT = y_train[:,1] #Get Ground truth\n",
    "#test_labels_GT = y_test[:,1]\n",
    "\n",
    "\n",
    "print ('Writing train text file...')\n",
    "\n",
    "data_dir = os.path.join(os.getcwd(), \"data/Out\")\n",
    "\n",
    "\n",
    "savetxt(os.path.join(data_dir, \"train.txt\"), data_train, True, train_labels_GT)\n",
    "#savetxt(os.path.join(data_dir, \"train.txt\"), x_train, True, train_labels_GT)\n",
    "savetxt(os.path.join(data_dir, \"test.txt\"), data_test, False)\n",
    "#savetxt(os.path.join(data_dir, \"test.txt\"), x_test, True, test_labels_GT)\n",
    "\n",
    "\n",
    "print(\"Done\")"
   ]
  },
  {
   "cell_type": "code",
   "execution_count": 11,
   "metadata": {},
   "outputs": [
    {
     "name": "stderr",
     "output_type": "stream",
     "text": [
      "C:\\Users\\A702628\\AppData\\Local\\Continuum\\anaconda3\\lib\\site-packages\\cntk\\cntk_py_init.py:32: UserWarning: Unsupported Windows version (7). CNTK supports Windows 10 and above, only.\n",
      "  warnings.warn('Unsupported Windows version (%s). CNTK supports Windows 10 and above, only.' % __my_distro_ver__)\n",
      "C:\\Users\\A702628\\AppData\\Local\\Continuum\\anaconda3\\lib\\site-packages\\cntk\\cntk_py_init.py:84: UserWarning: \n",
      "\n",
      "################################################ Missing optional dependency (GPU-Specific) ################################################\n",
      "   CNTK may crash if the component that depends on those dependencies is loaded.\n",
      "   Visit https://docs.microsoft.com/en-us/cognitive-toolkit/Setup-Windows-Python#optional-gpu-specific-packages for more information.\n",
      "############################################################################################################################################\n",
      "If you intend to use CNTK without GPU support, you can ignore the (likely) GPU-specific warning!\n",
      "############################################################################################################################################\n",
      "\n",
      "  warnings.warn(WARNING_MSG_GPU_ONLY % ('GPU-Specific', 'https://docs.microsoft.com/en-us/cognitive-toolkit/Setup-Windows-Python#optional-gpu-specific-packages'))\n"
     ]
    }
   ],
   "source": [
    "# Import the relevant components\n",
    "from __future__ import print_function # Use a function definition from future version (say 3.x from 2.7 interpreter)\n",
    "import matplotlib.image as mpimg\n",
    "import matplotlib.pyplot as plt\n",
    "import numpy as np\n",
    "import sys\n",
    "import os\n",
    "\n",
    "import cntk as C\n",
    "\n",
    "%matplotlib inline"
   ]
  },
  {
   "cell_type": "code",
   "execution_count": 12,
   "metadata": {},
   "outputs": [],
   "source": [
    "# Ensure we always get the same amount of randomness\n",
    "np.random.seed(0)\n",
    "C.cntk_py.set_fixed_random_seed(1)\n",
    "C.cntk_py.force_deterministic_algorithms()\n",
    "\n",
    "# Define the data dimensions\n",
    "input_dim = 15104\n",
    "num_output_classes = 11"
   ]
  },
  {
   "cell_type": "code",
   "execution_count": 13,
   "metadata": {},
   "outputs": [],
   "source": [
    "# Read a CTF formatted text (as mentioned above) using the CTF deserializer from a file\n",
    "def create_reader(path, is_training, input_dim, num_label_classes):\n",
    "    \n",
    "    labelStream = C.io.StreamDef(field='labels', shape=num_label_classes, is_sparse=False)\n",
    "    featureStream = C.io.StreamDef(field='features', shape=input_dim, is_sparse=False)\n",
    "    \n",
    "    deserailizer = C.io.CTFDeserializer(path, C.io.StreamDefs(labels = labelStream, features = featureStream))\n",
    "            \n",
    "    return C.io.MinibatchSource(deserailizer,\n",
    "       randomize = is_training, max_sweeps = C.io.INFINITELY_REPEAT if is_training else 1)"
   ]
  },
  {
   "cell_type": "code",
   "execution_count": 14,
   "metadata": {},
   "outputs": [],
   "source": [
    "input = C.input_variable(input_dim)\n",
    "label = C.input_variable(num_output_classes)"
   ]
  },
  {
   "cell_type": "code",
   "execution_count": 15,
   "metadata": {},
   "outputs": [],
   "source": [
    "def create_model(features):\n",
    "    with C.layers.default_options(init = C.glorot_uniform(), activation = C.leaky_relu):\n",
    "        r = C.layers.Dense(num_output_classes, activation = None)(features)\n",
    "        return r"
   ]
  },
  {
   "cell_type": "code",
   "execution_count": 16,
   "metadata": {},
   "outputs": [],
   "source": [
    "input_s = input/255\n",
    "z = create_model(input_s)"
   ]
  },
  {
   "cell_type": "code",
   "execution_count": 17,
   "metadata": {},
   "outputs": [],
   "source": [
    "loss = C.cross_entropy_with_softmax(z, label)"
   ]
  },
  {
   "cell_type": "code",
   "execution_count": 18,
   "metadata": {},
   "outputs": [],
   "source": [
    "label_error = C.classification_error(z, label)"
   ]
  },
  {
   "cell_type": "code",
   "execution_count": 19,
   "metadata": {},
   "outputs": [
    {
     "data": {
      "text/plain": [
       "\"from cntk.logging import ProgressPrinter\\nprogress_writers = [ProgressPrinter(\\n    tag='Training',\\n    num_epochs=num_sweeps_to_train_with)]\""
      ]
     },
     "execution_count": 19,
     "metadata": {},
     "output_type": "execute_result"
    }
   ],
   "source": [
    "'''from cntk.logging import ProgressPrinter\n",
    "progress_writers = [ProgressPrinter(\n",
    "    tag='Training',\n",
    "    num_epochs=num_sweeps_to_train_with)]'''"
   ]
  },
  {
   "cell_type": "code",
   "execution_count": 20,
   "metadata": {},
   "outputs": [],
   "source": [
    "# Instantiate the trainer object to drive the model training\n",
    "learning_rate = 0.1\n",
    "#learning_rate = [0.1, 0.01, 0.001]\n",
    "lr_schedule = C.learning_rate_schedule(learning_rate, C.UnitType.minibatch)\n",
    "'''lr = C.learning_rate_schedule([0.1, 0.01, 0.001], C.UnitType.sample, 1000)\n",
    "lr[0], lr[1000], lr[2000]\n",
    "0.1, 0.01, 0.001'''\n",
    "learner = C.sgd(z.parameters, lr_schedule)\n",
    "trainer = C.Trainer(z, (loss, label_error), [learner])\n",
    "#trainer = C.Trainer(z, (loss, label_error), [C.sgd(z.parameters, lr)], progress_writers)"
   ]
  },
  {
   "cell_type": "code",
   "execution_count": 21,
   "metadata": {},
   "outputs": [],
   "source": [
    "# Define a utility function to compute the moving average sum.\n",
    "# A more efficient implementation is possible with np.cumsum() function\n",
    "def moving_average(a, w=5):\n",
    "    if len(a) < w:\n",
    "        return a[:]    # Need to send a copy of the array\n",
    "    return [val if idx < w else sum(a[(idx-w):idx])/w for idx, val in enumerate(a)]\n",
    "\n",
    "\n",
    "# Defines a utility that prints the training progress\n",
    "def print_training_progress(trainer, mb, frequency, verbose=1):\n",
    "    training_loss = \"NA\"\n",
    "    eval_error = \"NA\"\n",
    "\n",
    "    if mb%frequency == 0:\n",
    "        training_loss = trainer.previous_minibatch_loss_average\n",
    "        eval_error = trainer.previous_minibatch_evaluation_average\n",
    "        if verbose: \n",
    "            print (\"Minibatch: {0}, Loss: {1:.4f}, Error: {2:.2f}%\".format(mb, training_loss, eval_error*100))\n",
    "        \n",
    "    return mb, training_loss, eval_error"
   ]
  },
  {
   "cell_type": "code",
   "execution_count": 22,
   "metadata": {},
   "outputs": [],
   "source": [
    "# Initialize the parameters for the trainer\n",
    "minibatch_size = 256\n",
    "num_samples_per_sweep = 140000\n",
    "num_sweeps_to_train_with = 10\n",
    "num_minibatches_to_train = (num_samples_per_sweep * num_sweeps_to_train_with) / minibatch_size"
   ]
  },
  {
   "cell_type": "code",
   "execution_count": 23,
   "metadata": {},
   "outputs": [],
   "source": [
    "train_file = 'data/Out/train.txt'"
   ]
  },
  {
   "cell_type": "code",
   "execution_count": 24,
   "metadata": {},
   "outputs": [
    {
     "name": "stdout",
     "output_type": "stream",
     "text": [
      "Minibatch: 0, Loss: 2.5997, Error: 98.44%\n",
      "Minibatch: 100, Loss: 7.4177, Error: 53.12%\n",
      "Minibatch: 200, Loss: 4.0432, Error: 42.58%\n",
      "Minibatch: 300, Loss: 1.8999, Error: 35.55%\n",
      "Minibatch: 400, Loss: 2.0157, Error: 27.73%\n",
      "Minibatch: 500, Loss: 1.2323, Error: 22.27%\n",
      "Minibatch: 600, Loss: 3.2549, Error: 48.44%\n",
      "Minibatch: 700, Loss: 1.5474, Error: 29.69%\n",
      "Minibatch: 800, Loss: 1.5307, Error: 28.91%\n",
      "Minibatch: 900, Loss: 1.7987, Error: 28.12%\n",
      "Minibatch: 1000, Loss: 2.2265, Error: 25.00%\n",
      "Minibatch: 1100, Loss: 0.7152, Error: 16.02%\n",
      "Minibatch: 1200, Loss: 0.9191, Error: 16.41%\n",
      "Minibatch: 1300, Loss: 1.6960, Error: 18.36%\n",
      "Minibatch: 1400, Loss: 1.3733, Error: 21.48%\n",
      "Minibatch: 1500, Loss: 1.8955, Error: 28.12%\n",
      "Minibatch: 1600, Loss: 0.7162, Error: 14.84%\n",
      "Minibatch: 1700, Loss: 0.9030, Error: 16.80%\n",
      "Minibatch: 1800, Loss: 0.7515, Error: 16.02%\n",
      "Minibatch: 1900, Loss: 0.6134, Error: 13.67%\n",
      "Minibatch: 2000, Loss: 1.1288, Error: 23.83%\n",
      "Minibatch: 2100, Loss: 0.3744, Error: 8.98%\n",
      "Minibatch: 2200, Loss: 0.6635, Error: 13.28%\n",
      "Minibatch: 2300, Loss: 0.4074, Error: 9.38%\n",
      "Minibatch: 2400, Loss: 0.6924, Error: 14.84%\n",
      "Minibatch: 2500, Loss: 0.3113, Error: 7.81%\n",
      "Minibatch: 2600, Loss: 0.4357, Error: 11.72%\n",
      "Minibatch: 2700, Loss: 0.0961, Error: 2.73%\n",
      "Minibatch: 2800, Loss: 0.4109, Error: 10.16%\n",
      "Minibatch: 2900, Loss: 0.9758, Error: 15.62%\n",
      "Minibatch: 3000, Loss: 0.0677, Error: 1.56%\n",
      "Minibatch: 3100, Loss: 0.2566, Error: 8.20%\n",
      "Minibatch: 3200, Loss: 1.1258, Error: 15.23%\n",
      "Minibatch: 3300, Loss: 0.1802, Error: 6.64%\n",
      "Minibatch: 3400, Loss: 0.0979, Error: 1.56%\n",
      "Minibatch: 3500, Loss: 0.0781, Error: 1.56%\n",
      "Minibatch: 3600, Loss: 0.0473, Error: 0.39%\n",
      "Minibatch: 3700, Loss: 0.7089, Error: 14.84%\n",
      "Minibatch: 3800, Loss: 0.8530, Error: 14.45%\n",
      "Minibatch: 3900, Loss: 1.3112, Error: 10.16%\n",
      "Minibatch: 4000, Loss: 0.0572, Error: 1.17%\n",
      "Minibatch: 4100, Loss: 0.0495, Error: 0.39%\n",
      "Minibatch: 4200, Loss: 0.5963, Error: 11.72%\n",
      "Minibatch: 4300, Loss: 0.0446, Error: 0.39%\n",
      "Minibatch: 4400, Loss: 0.0626, Error: 1.95%\n",
      "Minibatch: 4500, Loss: 0.0644, Error: 1.17%\n",
      "Minibatch: 4600, Loss: 0.0461, Error: 0.78%\n",
      "Minibatch: 4700, Loss: 0.0318, Error: 0.00%\n",
      "Minibatch: 4800, Loss: 0.0477, Error: 0.39%\n",
      "Minibatch: 4900, Loss: 0.0365, Error: 0.39%\n",
      "Minibatch: 5000, Loss: 0.0464, Error: 0.39%\n",
      "Minibatch: 5100, Loss: 0.0417, Error: 0.00%\n",
      "Minibatch: 5200, Loss: 0.0483, Error: 1.56%\n",
      "Minibatch: 5300, Loss: 0.0299, Error: 0.00%\n",
      "Minibatch: 5400, Loss: 0.0357, Error: 0.78%\n"
     ]
    }
   ],
   "source": [
    "# Create the reader to training data set\n",
    "reader_train = create_reader(train_file, True, input_dim, num_output_classes)\n",
    "\n",
    "# Map the data streams to the input and labels.\n",
    "input_map = {\n",
    "    label  : reader_train.streams.labels,\n",
    "    input  : reader_train.streams.features\n",
    "} \n",
    "\n",
    "# Run the trainer on and perform model training\n",
    "training_progress_output_freq = 100\n",
    "\n",
    "plotdata = {\"batchsize\":[], \"loss\":[], \"error\":[]}\n",
    "\n",
    "for i in range(0, int(num_minibatches_to_train)):\n",
    "    \n",
    "    # Read a mini batch from the training data file\n",
    "    data = reader_train.next_minibatch(minibatch_size, input_map = input_map)\n",
    "    \n",
    "    trainer.train_minibatch(data)\n",
    "    batchsize, loss, error = print_training_progress(trainer, i, training_progress_output_freq, verbose=1)\n",
    "    \n",
    "    if not (loss == \"NA\" or error ==\"NA\"):\n",
    "        plotdata[\"batchsize\"].append(batchsize)\n",
    "        plotdata[\"loss\"].append(loss)\n",
    "        plotdata[\"error\"].append(error)"
   ]
  },
  {
   "cell_type": "code",
   "execution_count": 25,
   "metadata": {},
   "outputs": [
    {
     "data": {
      "image/png": "[encoded data removed]",
      "text/plain": [
       "<Figure size 432x288 with 1 Axes>"
      ]
     },
     "metadata": {},
     "output_type": "display_data"
    },
    {
     "data": {
      "image/png": "[encoded data removed]",
      "text/plain": [
       "<Figure size 432x288 with 1 Axes>"
      ]
     },
     "metadata": {},
     "output_type": "display_data"
    }
   ],
   "source": [
    "# Compute the moving average loss to smooth out the noise in SGD\n",
    "plotdata[\"avgloss\"] = moving_average(plotdata[\"loss\"])\n",
    "plotdata[\"avgerror\"] = moving_average(plotdata[\"error\"])\n",
    "\n",
    "# Plot the training loss and the training error\n",
    "import matplotlib.pyplot as plt\n",
    "\n",
    "plt.figure(1)\n",
    "plt.subplot(211)\n",
    "plt.plot(plotdata[\"batchsize\"], plotdata[\"avgloss\"], 'b--')\n",
    "plt.xlabel('Minibatch number')\n",
    "plt.ylabel('Loss')\n",
    "plt.title('Minibatch run vs. Training loss')\n",
    "\n",
    "plt.show()\n",
    "\n",
    "plt.subplot(212)\n",
    "plt.plot(plotdata[\"batchsize\"], plotdata[\"avgerror\"], 'r--')\n",
    "plt.xlabel('Minibatch number')\n",
    "plt.ylabel('Label Prediction Error')\n",
    "plt.title('Minibatch run vs. Label Prediction Error')\n",
    "plt.show()"
   ]
  },
  {
   "cell_type": "code",
   "execution_count": 27,
   "metadata": {},
   "outputs": [],
   "source": [
    "test_file = 'data/Out/test.txt'"
   ]
  },
  {
   "cell_type": "code",
   "execution_count": 28,
   "metadata": {},
   "outputs": [
    {
     "ename": "RuntimeError",
     "evalue": "Malformed input file. Bailing out.\n\n[CALL STACK]\n    > Microsoft::MSR::CNTK::IDataReader::  InitProposals\n    - Microsoft::MSR::CNTK::IDataReader::  InitProposals (x4)\n    - CreateCompositeDataReader (x3)\n    - CNTK::TrainingParameterSchedule<double>::  GetMinibatchSize (x5)\n    - Microsoft::MSR::CNTK::IDataReader::  operator= (x2)\n    - Concurrency::details::_ContextCallback::  _CallInContext\n\n",
     "output_type": "error",
     "traceback": [
      "\u001b[1;31m---------------------------------------------------------------------------\u001b[0m",
      "\u001b[1;31mRuntimeError\u001b[0m                              Traceback (most recent call last)",
      "\u001b[1;32m<ipython-input-28-9ea63240de3f>\u001b[0m in \u001b[0;36m<module>\u001b[1;34m()\u001b[0m\n\u001b[0;32m     19\u001b[0m     \u001b[1;31m# with one pixel per dimension that we will encode / decode with the\u001b[0m\u001b[1;33m\u001b[0m\u001b[1;33m\u001b[0m\u001b[0m\n\u001b[0;32m     20\u001b[0m     \u001b[1;31m# trained model.\u001b[0m\u001b[1;33m\u001b[0m\u001b[1;33m\u001b[0m\u001b[0m\n\u001b[1;32m---> 21\u001b[1;33m     \u001b[0mdata\u001b[0m \u001b[1;33m=\u001b[0m \u001b[0mreader_test\u001b[0m\u001b[1;33m.\u001b[0m\u001b[0mnext_minibatch\u001b[0m\u001b[1;33m(\u001b[0m\u001b[0mtest_minibatch_size\u001b[0m\u001b[1;33m,\u001b[0m \u001b[0minput_map\u001b[0m\u001b[1;33m=\u001b[0m \u001b[0minput_map\u001b[0m\u001b[1;33m)\u001b[0m\u001b[1;33m\u001b[0m\u001b[0m\n\u001b[0m\u001b[0;32m     22\u001b[0m     \u001b[0meval_error\u001b[0m \u001b[1;33m=\u001b[0m \u001b[0mtrainer\u001b[0m\u001b[1;33m.\u001b[0m\u001b[0mtest_minibatch\u001b[0m\u001b[1;33m(\u001b[0m\u001b[0mdata\u001b[0m\u001b[1;33m)\u001b[0m\u001b[1;33m\u001b[0m\u001b[0m\n\u001b[0;32m     23\u001b[0m     \u001b[0mtest_result\u001b[0m \u001b[1;33m=\u001b[0m \u001b[0mtest_result\u001b[0m \u001b[1;33m+\u001b[0m \u001b[0meval_error\u001b[0m\u001b[1;33m\u001b[0m\u001b[0m\n",
      "\u001b[1;32m~\\AppData\\Local\\Continuum\\anaconda3\\lib\\site-packages\\cntk\\internal\\swig_helper.py\u001b[0m in \u001b[0;36mwrapper\u001b[1;34m(*args, **kwds)\u001b[0m\n\u001b[0;32m     67\u001b[0m     \u001b[1;33m@\u001b[0m\u001b[0mwraps\u001b[0m\u001b[1;33m(\u001b[0m\u001b[0mf\u001b[0m\u001b[1;33m)\u001b[0m\u001b[1;33m\u001b[0m\u001b[0m\n\u001b[0;32m     68\u001b[0m     \u001b[1;32mdef\u001b[0m \u001b[0mwrapper\u001b[0m\u001b[1;33m(\u001b[0m\u001b[1;33m*\u001b[0m\u001b[0margs\u001b[0m\u001b[1;33m,\u001b[0m \u001b[1;33m**\u001b[0m\u001b[0mkwds\u001b[0m\u001b[1;33m)\u001b[0m\u001b[1;33m:\u001b[0m\u001b[1;33m\u001b[0m\u001b[0m\n\u001b[1;32m---> 69\u001b[1;33m         \u001b[0mresult\u001b[0m \u001b[1;33m=\u001b[0m \u001b[0mf\u001b[0m\u001b[1;33m(\u001b[0m\u001b[1;33m*\u001b[0m\u001b[0margs\u001b[0m\u001b[1;33m,\u001b[0m \u001b[1;33m**\u001b[0m\u001b[0mkwds\u001b[0m\u001b[1;33m)\u001b[0m\u001b[1;33m\u001b[0m\u001b[0m\n\u001b[0m\u001b[0;32m     70\u001b[0m         \u001b[0mmap_if_possible\u001b[0m\u001b[1;33m(\u001b[0m\u001b[0mresult\u001b[0m\u001b[1;33m)\u001b[0m\u001b[1;33m\u001b[0m\u001b[0m\n\u001b[0;32m     71\u001b[0m         \u001b[1;32mreturn\u001b[0m \u001b[0mresult\u001b[0m\u001b[1;33m\u001b[0m\u001b[0m\n",
      "\u001b[1;32m~\\AppData\\Local\\Continuum\\anaconda3\\lib\\site-packages\\cntk\\io\\__init__.py\u001b[0m in \u001b[0;36mnext_minibatch\u001b[1;34m(self, minibatch_size_in_samples, input_map, device, num_data_partitions, partition_index)\u001b[0m\n\u001b[0;32m    330\u001b[0m                                             \u001b[0mminibatch_size_in_samples\u001b[0m\u001b[1;33m,\u001b[0m\u001b[1;33m\u001b[0m\u001b[0m\n\u001b[0;32m    331\u001b[0m                                             \u001b[0mnum_data_partitions\u001b[0m\u001b[1;33m,\u001b[0m\u001b[1;33m\u001b[0m\u001b[0m\n\u001b[1;32m--> 332\u001b[1;33m                                             partition_index, device)\n\u001b[0m\u001b[0;32m    333\u001b[0m \u001b[1;33m\u001b[0m\u001b[0m\n\u001b[0;32m    334\u001b[0m         \u001b[1;32mif\u001b[0m \u001b[1;32mnot\u001b[0m \u001b[0mmb\u001b[0m\u001b[1;33m:\u001b[0m\u001b[1;33m\u001b[0m\u001b[0m\n",
      "\u001b[1;32m~\\AppData\\Local\\Continuum\\anaconda3\\lib\\site-packages\\cntk\\cntk_py.py\u001b[0m in \u001b[0;36mget_next_minibatch\u001b[1;34m(self, *args)\u001b[0m\n\u001b[0;32m   3179\u001b[0m \u001b[1;33m\u001b[0m\u001b[0m\n\u001b[0;32m   3180\u001b[0m     \u001b[1;32mdef\u001b[0m \u001b[0mget_next_minibatch\u001b[0m\u001b[1;33m(\u001b[0m\u001b[0mself\u001b[0m\u001b[1;33m,\u001b[0m \u001b[1;33m*\u001b[0m\u001b[0margs\u001b[0m\u001b[1;33m)\u001b[0m\u001b[1;33m:\u001b[0m\u001b[1;33m\u001b[0m\u001b[0m\n\u001b[1;32m-> 3181\u001b[1;33m         \u001b[1;32mreturn\u001b[0m \u001b[0m_cntk_py\u001b[0m\u001b[1;33m.\u001b[0m\u001b[0mMinibatchSource_get_next_minibatch\u001b[0m\u001b[1;33m(\u001b[0m\u001b[0mself\u001b[0m\u001b[1;33m,\u001b[0m \u001b[1;33m*\u001b[0m\u001b[0margs\u001b[0m\u001b[1;33m)\u001b[0m\u001b[1;33m\u001b[0m\u001b[0m\n\u001b[0m\u001b[0;32m   3182\u001b[0m \u001b[0mMinibatchSource_swigregister\u001b[0m \u001b[1;33m=\u001b[0m \u001b[0m_cntk_py\u001b[0m\u001b[1;33m.\u001b[0m\u001b[0mMinibatchSource_swigregister\u001b[0m\u001b[1;33m\u001b[0m\u001b[0m\n\u001b[0;32m   3183\u001b[0m \u001b[0mMinibatchSource_swigregister\u001b[0m\u001b[1;33m(\u001b[0m\u001b[0mMinibatchSource\u001b[0m\u001b[1;33m)\u001b[0m\u001b[1;33m\u001b[0m\u001b[0m\n",
      "\u001b[1;31mRuntimeError\u001b[0m: Malformed input file. Bailing out.\n\n[CALL STACK]\n    > Microsoft::MSR::CNTK::IDataReader::  InitProposals\n    - Microsoft::MSR::CNTK::IDataReader::  InitProposals (x4)\n    - CreateCompositeDataReader (x3)\n    - CNTK::TrainingParameterSchedule<double>::  GetMinibatchSize (x5)\n    - Microsoft::MSR::CNTK::IDataReader::  operator= (x2)\n    - Concurrency::details::_ContextCallback::  _CallInContext\n\n"
     ]
    }
   ],
   "source": [
    "# Load test data\n",
    "\n",
    "reader_test = create_reader(test_file, False, input_dim, num_output_classes)\n",
    "input_map = {\n",
    "    input: reader_test.streams.features,\n",
    "    label: reader_test.streams.labels\n",
    "}\n",
    "\n",
    "# Test data for trained model\n",
    "test_minibatch_size = 515\n",
    "num_samples = 10000\n",
    "num_minibatches_to_test = num_samples / test_minibatch_size\n",
    "test_result = 0.0\n",
    "\n",
    "for i in range(int(num_minibatches_to_test)):\n",
    "    \n",
    "    # We are loading test data in batches specified by test_minibatch_size\n",
    "    # Each data point in the minibatch is a MNIST digit image of 784 dimensions \n",
    "    # with one pixel per dimension that we will encode / decode with the \n",
    "    # trained model.\n",
    "    data = reader_test.next_minibatch(test_minibatch_size, input_map= input_map)\n",
    "    eval_error = trainer.test_minibatch(data)\n",
    "    test_result = test_result + eval_error\n",
    "\n",
    "# Average of evaluation errors of all test minibatches\n",
    "print(\"Average test error: {0:.2f}%\".format(test_result*100 / num_minibatches_to_test))"
   ]
  },
  {
   "cell_type": "code",
   "execution_count": 26,
   "metadata": {},
   "outputs": [],
   "source": [
    "out = C.softmax(z)"
   ]
  },
  {
   "cell_type": "markdown",
   "metadata": {},
   "source": [
    "### Create a new test.txt file to evaluate de model"
   ]
  },
  {
   "cell_type": "code",
   "execution_count": 27,
   "metadata": {},
   "outputs": [],
   "source": [
    "# Save the data files into a format compatible with CNTK text reader\n",
    "def savetxt(filename, data, hasLabels=True, labels=0):\n",
    "    dir = os.path.dirname(filename)\n",
    "\n",
    "    if not os.path.exists(dir):\n",
    "        os.makedirs(dir)\n",
    "    \n",
    "    print(\"Saving\", filename )\n",
    "    with open(filename, 'w') as f:\n",
    "        print(\"opened....\")\n",
    "        labels_ohe = list(map(' '.join, np.eye(11, dtype=np.uint).astype(str))) #for one hot encoding\n",
    "        index = 0\n",
    "        for row in data:            \n",
    "            row_str = row.astype(str)\n",
    "            if hasLabels:                               \n",
    "                label_str = labels_ohe[int(labels[index])]               \n",
    "            \n",
    "            feature_str = ' '.join(row_str)\n",
    "            \n",
    "            if hasLabels:\n",
    "                f.write('|labels {} |features {}\\n'.format(label_str, feature_str))\n",
    "            else:\n",
    "                f.write('|labels {} |features {}\\n'.format(labels_ohe[1], feature_str))\n",
    "\n",
    "            \n",
    "            index = index + 1"
   ]
  },
  {
   "cell_type": "code",
   "execution_count": 28,
   "metadata": {},
   "outputs": [
    {
     "name": "stdout",
     "output_type": "stream",
     "text": [
      "Writing train text file...\n",
      "Saving C:\\Users\\A702628\\OneDrive - Atos\\Microsoft Capstone IA\\data/Out\\test_eval.txt\n",
      "opened....\n",
      "Done\n"
     ]
    }
   ],
   "source": [
    "print ('Writing train text file...')\n",
    "\n",
    "data_dir = os.path.join(os.getcwd(), \"data/Out\")\n",
    "\n",
    "\n",
    "savetxt(os.path.join(data_dir, \"test_eval.txt\"), data_test, False)\n",
    "\n",
    "\n",
    "print(\"Done\")"
   ]
  },
  {
   "cell_type": "code",
   "execution_count": 29,
   "metadata": {},
   "outputs": [],
   "source": [
    "# Read the data for evaluation\n",
    "test_file = 'data/Out/test_eval.txt'\n",
    "reader_eval = create_reader(test_file, False, input_dim, num_output_classes)\n",
    "\n",
    "eval_minibatch_size = 659\n",
    "eval_input_map = {label: reader_eval.streams.labels,\n",
    "                  input: reader_eval.streams.features} \n",
    "\n",
    "data = reader_eval.next_minibatch(eval_minibatch_size, input_map = eval_input_map)\n",
    "\n",
    "img_label = data[label].asarray()\n",
    "img_data = data[input].asarray()\n",
    "predicted_label_prob = [out.eval(img_data[i]) for i in range(len(img_data))]"
   ]
  },
  {
   "cell_type": "code",
   "execution_count": 30,
   "metadata": {},
   "outputs": [],
   "source": [
    "# Find the index with the maximum value for both predicted as well as the ground truth\n",
    "pred = [np.argmax(predicted_label_prob[i]) for i in range(len(predicted_label_prob))]\n",
    "gtlabel = [np.argmax(img_label[i]) for i in range(len(img_label))]"
   ]
  },
  {
   "cell_type": "code",
   "execution_count": 31,
   "metadata": {},
   "outputs": [
    {
     "name": "stdout",
     "output_type": "stream",
     "text": [
      "Label    : [1, 1, 1, 1, 1, 1, 1, 1, 1, 1, 1, 1, 1, 1, 1, 1, 1, 1, 1, 1, 1, 1, 1, 1, 1]\n",
      "Predicted: [8, 1, 2, 8, 2, 5, 8, 3, 2, 0, 8, 5, 5, 2, 1, 7, 5, 2, 5, 7, 1, 8, 4, 3, 3, 0, 7, 1, 0, 7, 7, 7, 10, 0, 3, 8, 2, 1, 8, 0, 8, 4, 1, 7, 0, 3, 10, 6, 4, 7, 3, 10, 4, 1, 2, 3, 1, 6, 3, 10, 7, 1, 5, 7, 8, 2, 2, 3, 0, 8, 7, 2, 3, 5, 0, 3, 10, 2, 4, 0, 0, 8, 8, 5, 2, 0, 5, 1, 5, 5, 1, 3, 3, 0, 6, 5, 1, 7, 1, 1, 0, 8, 3, 9, 1, 8, 3, 0, 1, 2, 1, 2, 5, 2, 0, 3, 1, 2, 2, 3, 5, 9, 0, 5, 3, 10, 8, 8, 2, 1, 2, 0, 8, 2, 3, 0, 8, 3, 1, 3, 2, 2, 1, 1, 1, 2, 4, 3, 2, 0, 2, 4, 0, 8, 7, 5, 2, 7, 8, 8, 1, 4, 1, 0, 0, 2, 2, 10, 1, 3, 3, 2, 5, 3, 1, 1, 10, 8, 0, 5, 3, 8, 6, 0, 0, 8, 5, 0, 0, 0, 7, 1, 8, 2, 1, 0, 8, 7, 0, 1, 0, 8, 5, 8, 1, 8, 8, 8, 5, 8, 0, 9, 7, 5, 0, 5, 2, 9, 9, 5, 3, 2, 1, 5, 0, 8, 3, 0, 9, 7, 4, 7, 3, 8, 5, 3, 7, 3, 1, 3, 6, 0, 5, 10, 10, 10, 0, 5, 2, 5, 9, 0, 10, 2, 3, 0, 0, 3, 2, 8, 0, 5, 0, 0, 3, 7, 10, 8, 0, 7, 5, 0, 0, 5, 1, 1, 7, 1, 1, 7, 7, 4, 10, 8, 2, 7, 2, 0, 2, 5, 8, 1, 1, 7, 3, 1, 1, 8, 3, 1, 5, 8, 10, 2, 8, 1, 3, 5, 0, 1, 4, 0, 8, 4, 2, 1, 5, 3, 7, 8, 1, 9, 8, 1, 2, 2, 0, 9, 3, 0, 3, 6, 10, 7, 8, 0, 2, 5, 7, 8, 3, 2, 0, 8, 3, 7, 9, 3, 0, 3, 0, 5, 2, 3, 3, 10, 8, 1, 8, 3, 0, 8, 5, 3, 0, 6, 1, 1, 4, 0, 2, 0, 1, 5, 2, 2, 10, 8, 8, 2, 5, 4, 8, 8, 8, 7, 0, 6, 3, 9, 5, 2, 10, 3, 4, 3, 1, 2, 1, 8, 7, 9, 10, 0, 4, 8, 0, 3, 2, 7, 8, 8, 1, 5, 0, 6, 0, 8, 2, 5, 0, 8, 8, 4, 3, 7, 4, 3, 7, 0, 3, 5, 3, 2, 1, 4, 8, 8, 0, 0, 8, 3, 2, 6, 9, 5, 6, 2, 0, 8, 2, 2, 8, 2, 1, 5, 5, 7, 1, 2, 0, 1, 1, 1, 3, 6, 0, 8, 1, 0, 9, 2, 1, 1, 3, 1, 2, 3, 0, 8, 0, 1, 4, 2, 0, 10, 8, 5, 2, 0, 7, 8, 8, 5, 8, 5, 2, 1, 3, 6, 4, 3, 6, 3, 8, 8, 1, 10, 7, 2, 3, 2, 10, 8, 1, 4, 8, 3, 0, 2, 2, 5, 8, 6, 8, 9, 7, 3, 2, 2, 8, 0, 3, 8, 0, 2, 2, 1, 10, 8, 0, 10, 3, 7, 3, 1, 6, 3, 3, 2, 1, 6, 10, 8, 1, 3, 7, 3, 2, 3, 5, 3, 5, 5, 3, 7, 3, 3, 3, 1, 7, 2, 5, 1, 8, 2, 8, 0, 5, 5, 5, 5, 2, 2, 7, 0, 6, 5, 1, 2, 2, 0, 5, 1, 6, 1, 0, 5, 3, 8, 5, 3, 1, 2, 6, 3, 0, 8, 1, 8, 4, 6, 1, 10, 2, 5, 3, 8, 2, 2, 0, 8, 1, 2, 2, 8, 7, 4, 5, 8, 3, 6, 2, 1, 8, 0, 7, 5, 7, 1, 9, 2, 3, 8, 3, 1, 0, 2, 0, 2, 8, 3, 5, 8, 7, 5, 3, 5, 8]\n"
     ]
    }
   ],
   "source": [
    "print(\"Label    :\", gtlabel[:25])\n",
    "print(\"Predicted:\", pred)"
   ]
  },
  {
   "cell_type": "code",
   "execution_count": 32,
   "metadata": {},
   "outputs": [],
   "source": [
    "# SAVE PREDICTIONS\n",
    "\n",
    "import pandas as pd\n",
    "id_labels = pd.read_csv('test_labels.csv')\n",
    "predictions = pd.DataFrame(data = pred, columns = ['appliance'])\n",
    "predictions['id'] = id_labels['names']\n",
    "predictions = predictions[['id', 'appliance']]\n",
    "\n",
    "\n",
    "#SAVE CSV\n",
    "predictions.to_csv('Caps_Preds.csv', index = None)\n",
    "#try_ = pd.read_csv('Caps_Preds.csv')"
   ]
  },
  {
   "cell_type": "code",
   "execution_count": null,
   "metadata": {},
   "outputs": [],
   "source": []
  }
 ],
 "metadata": {
  "kernelspec": {
   "display_name": "Python 3",
   "language": "python",
   "name": "python3"
  },
  "language_info": {
   "codemirror_mode": {
    "name": "ipython",
    "version": 3
   },
   "file_extension": ".py",
   "mimetype": "text/x-python",
   "name": "python",
   "nbconvert_exporter": "python",
   "pygments_lexer": "ipython3",
   "version": "3.6.5"
  }
 },
 "nbformat": 4,
 "nbformat_minor": 2
}
