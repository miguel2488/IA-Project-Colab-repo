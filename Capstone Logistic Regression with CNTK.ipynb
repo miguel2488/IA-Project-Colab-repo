{
 "cells": [
  {
   "cell_type": "markdown",
   "metadata": {},
   "source": [
    "## Load Train and Test Images"
   ]
  },
  {
   "cell_type": "code",
   "execution_count": 32,
   "metadata": {},
   "outputs": [
    {
     "name": "stdout",
     "output_type": "stream",
     "text": [
      "C:\\Users\\bauer\\OneDrive para la Empresa\\Microsoft Capstone IA\n",
      "988\n",
      "988\n",
      "659\n",
      "659\n"
     ]
    }
   ],
   "source": [
    "import os\n",
    "import numpy as np\n",
    "\n",
    "\n",
    "print(os.getcwd())\n",
    "\n",
    "train_img_dir = os.getcwd() + '/Capstone data/train/'\n",
    "test_img_dir = os.getcwd() + '/Capstone data/test/'\n",
    "\n",
    "#spectrogram of current \n",
    "train_img_names_c = [x for x in os.listdir(train_img_dir) if x.endswith('_c.png')]\n",
    "\n",
    "#spectrogram of voltage\n",
    "train_img_names_v = [x for x in os.listdir(train_img_dir) if x.endswith('_v.png')]\n",
    "\n",
    "#spectrogram of current \n",
    "test_img_names_c = [x for x in os.listdir(test_img_dir) if x.endswith('_c.png')]\n",
    "\n",
    "#spectrogram of voltage\n",
    "test_img_names_v = [x for x in os.listdir(test_img_dir) if x.endswith('_v.png')]\n",
    "\n",
    "\n",
    "print(len(train_img_names_c))\n",
    "print(len(train_img_names_v))\n",
    "\n",
    "print(len(test_img_names_c))\n",
    "print(len(test_img_names_v))\n",
    "\n"
   ]
  },
  {
   "cell_type": "code",
   "execution_count": 36,
   "metadata": {},
   "outputs": [
    {
     "name": "stdout",
     "output_type": "stream",
     "text": [
      "988\n",
      "all_train_images.shape (988, 128, 118)\n",
      "all_test_images.shape (659, 128, 118)\n"
     ]
    }
   ],
   "source": [
    "from skimage import io\n",
    "from skimage.color import rgb2gray\n",
    "from skimage.viewer import ImageViewer\n",
    "import matplotlib.pyplot as plt\n",
    "\n",
    "from scipy import misc\n",
    "import cv2\n",
    "\n",
    "\n",
    "\n",
    "\n",
    "print(len(train_img_names_c))\n",
    "\n",
    "all_train_images = np.ones((len(train_img_names_c), 128, 118)) #if as_grey=True\n",
    "all_test_images = np.ones((len(test_img_names_c), 128, 118)) #if as_grey=True\n",
    "\n",
    "\n",
    "i = 0\n",
    "for im in train_img_names_c:\n",
    "\n",
    "    # Load an color image in grayscale\n",
    "    my_image = cv2.imread(train_img_dir + '/' + im,0)\n",
    "\n",
    "\n",
    "    all_train_images[i] = my_image\n",
    "    i = i + 1\n",
    "\n",
    "    \n",
    "i = 0\n",
    "for im in test_img_names_c:\n",
    "    #print(im)\n",
    "    my_image = cv2.imread(test_img_dir + '/' + im,0)\n",
    "\n",
    "\n",
    "    all_test_images[i] = my_image\n",
    "    i = i + 1    \n",
    "\n",
    "\n",
    "print(\"all_train_images.shape {0}\".format(all_train_images.shape))\n",
    "print(\"all_test_images.shape {0}\".format(all_test_images.shape))\n",
    "\n",
    "\n",
    "# look at the image\n",
    "#plt.imshow(my_image)"
   ]
  },
  {
   "cell_type": "code",
   "execution_count": 34,
   "metadata": {},
   "outputs": [
    {
     "name": "stdout",
     "output_type": "stream",
     "text": [
      "[[ 30.  30.  30. ...  30.  30.  30.]\n",
      " [ 30.  30.  30. ...  30.  30.  30.]\n",
      " [ 30.  30.  30. ...  30.  30.  30.]\n",
      " ...\n",
      " [ 77.  73.  71. ... 194. 195. 200.]\n",
      " [ 78.  81.  82. ... 212. 212. 205.]\n",
      " [ 69.  63.  62. ... 179. 181. 185.]]\n"
     ]
    },
    {
     "data": {
      "text/plain": [
       "(-0.5, 117.5, 127.5, -0.5)"
      ]
     },
     "execution_count": 34,
     "metadata": {},
     "output_type": "execute_result"
    },
    {
     "data": {
      "image/png": "[encoded data removed]",
      "text/plain": [
       "<Figure size 432x288 with 1 Axes>"
      ]
     },
     "metadata": {
      "needs_background": "light"
     },
     "output_type": "display_data"
    }
   ],
   "source": [
    "sample_number = 12\n",
    "print(all_train_images[sample_number])\n",
    "plt.imshow(all_train_images[sample_number], cmap=\"gray_r\")\n",
    "plt.axis('off')\n"
   ]
  },
  {
   "cell_type": "markdown",
   "metadata": {},
   "source": [
    "## Reshape"
   ]
  },
  {
   "cell_type": "code",
   "execution_count": 37,
   "metadata": {},
   "outputs": [
    {
     "name": "stdout",
     "output_type": "stream",
     "text": [
      "\n",
      "**************************\n",
      "all_train_images.shape (988, 128, 118)\n",
      "data_train shape (988, 15104)\n",
      "[[ 38.  47.  51. ... 179. 184. 197.]\n",
      " [ 30.  30.  30. ... 177. 183. 196.]\n",
      " [ 62.  61.  64. ... 180. 187. 204.]\n",
      " ...\n",
      " [ 30.  30.  30. ... 180. 186. 200.]\n",
      " [ 67.  68.  66. ... 152. 159. 179.]\n",
      " [ 74.  61.  46. ... 153. 165. 159.]]\n",
      "**************************\n",
      "\n",
      "\n",
      "**************************\n",
      "all_test_images.shape (659, 128, 118)\n",
      "data_test shape (659, 15104)\n",
      "[[ 84.  81.  77. ... 179. 179. 172.]\n",
      " [ 30.  30.  30. ... 180. 181. 180.]\n",
      " [ 30.  30.  30. ... 152. 153. 148.]\n",
      " ...\n",
      " [ 56.  61.  62. ... 180. 180. 174.]\n",
      " [ 30.  30.  30. ... 179. 188. 205.]\n",
      " [ 70.  71.  69. ... 152. 154. 162.]]\n",
      "**************************\n",
      "\n"
     ]
    }
   ],
   "source": [
    "# To apply a classifier on this data, we need to flatten the image, to\n",
    "# turn the data in a (samples, feature) matrix:\n",
    "\n",
    "print(\"\\n**************************\")\n",
    "n_samples = len(all_train_images)\n",
    "\n",
    "print(\"all_train_images.shape {0}\".format(all_train_images.shape))\n",
    "data_train = all_train_images.reshape((n_samples, 15104)) #988, 15104, 4\n",
    "\n",
    "print(\"data_train shape {0}\".format(data_train.shape))\n",
    "print(data_train[:10])\n",
    "\n",
    "print(\"**************************\\n\")\n",
    "\n",
    "\n",
    "print(\"\\n**************************\")\n",
    "n_samples = len(all_test_images)\n",
    "\n",
    "print(\"all_test_images.shape {0}\".format(all_test_images.shape))\n",
    "data_test = all_test_images.reshape((n_samples, 15104)) #988, 15104, 4\n",
    "\n",
    "print(\"data_test shape {0}\".format(data_test.shape))\n",
    "print(data_test[:10])\n",
    "\n",
    "print(\"**************************\\n\")\n",
    "\n",
    "\n"
   ]
  },
  {
   "cell_type": "markdown",
   "metadata": {},
   "source": [
    "## Load Train labels"
   ]
  },
  {
   "cell_type": "code",
   "execution_count": 38,
   "metadata": {},
   "outputs": [
    {
     "name": "stdout",
     "output_type": "stream",
     "text": [
      "988\n",
      "(988, 2)\n"
     ]
    }
   ],
   "source": [
    "from numpy import genfromtxt\n",
    "\n",
    "\n",
    "train_labels_dir = os.getcwd() + '/'\n",
    "\n",
    "train_labels = genfromtxt(train_labels_dir + 'train_labels.csv', delimiter=',', skip_header=1)\n",
    "\n",
    "print(len(train_labels))\n",
    "print(train_labels.shape)\n",
    "\n"
   ]
  },
  {
   "cell_type": "markdown",
   "metadata": {},
   "source": [
    "## Saving for CNTK"
   ]
  },
  {
   "cell_type": "code",
   "execution_count": 39,
   "metadata": {},
   "outputs": [],
   "source": [
    "# Save the data files into a format compatible with CNTK text reader\n",
    "def savetxt(filename, data, hasLabels=True, labels=0):\n",
    "    dir = os.path.dirname(filename)\n",
    "\n",
    "    if not os.path.exists(dir):\n",
    "        os.makedirs(dir)\n",
    "    \n",
    "    print(\"Saving\", filename )\n",
    "    with open(filename, 'w') as f:\n",
    "        print(\"opened....\")\n",
    "        labels_ohe = list(map(' '.join, np.eye(11, dtype=np.uint).astype(str))) #for one hot encoding\n",
    "        index = 0\n",
    "        for row in data:            \n",
    "            row_str = row.astype(str)\n",
    "            if hasLabels:                               \n",
    "                label_str = labels_ohe[int(labels[index])]               \n",
    "            \n",
    "            feature_str = ' '.join(row_str)\n",
    "            \n",
    "            if hasLabels:\n",
    "                f.write('|labels {} |features {}\\n'.format(label_str, feature_str))\n",
    "            else:\n",
    "                f.write('|features {}\\n'.format(feature_str))\n",
    "            \n",
    "            index = index + 1\n"
   ]
  },
  {
   "cell_type": "markdown",
   "metadata": {},
   "source": [
    "## Saving Training/Test Data"
   ]
  },
  {
   "cell_type": "code",
   "execution_count": 40,
   "metadata": {},
   "outputs": [
    {
     "name": "stdout",
     "output_type": "stream",
     "text": [
      "Writing train text file...\n",
      "Saving C:\\Users\\bauer\\OneDrive para la Empresa\\Microsoft Capstone IA\\Capstone data/Out\\train.txt\n",
      "opened....\n",
      "Saving C:\\Users\\bauer\\OneDrive para la Empresa\\Microsoft Capstone IA\\Capstone data/Out\\test.txt\n",
      "opened....\n",
      "Done\n"
     ]
    }
   ],
   "source": [
    "train_labels_GT = train_labels[:,1] #Get Ground truth\n",
    "\n",
    "\n",
    "print ('Writing train text file...')\n",
    "\n",
    "data_dir = os.path.join(os.getcwd(), \"Capstone data/Out\")\n",
    "\n",
    "\n",
    "savetxt(os.path.join(data_dir, \"train.txt\"), data_train, True, train_labels_GT)\n",
    "savetxt(os.path.join(data_dir, \"test.txt\"), data_test, False)\n",
    "\n",
    "\n",
    "print(\"Done\")"
   ]
  },
  {
   "cell_type": "code",
   "execution_count": 41,
   "metadata": {},
   "outputs": [],
   "source": [
    "# Import the relevant components\n",
    "from __future__ import print_function # Use a function definition from future version (say 3.x from 2.7 interpreter)\n",
    "import matplotlib.image as mpimg\n",
    "import matplotlib.pyplot as plt\n",
    "import numpy as np\n",
    "import sys\n",
    "import os\n",
    "\n",
    "import cntk as C\n",
    "\n",
    "%matplotlib inline"
   ]
  },
  {
   "cell_type": "code",
   "execution_count": 42,
   "metadata": {},
   "outputs": [],
   "source": [
    "# Ensure we always get the same amount of randomness\n",
    "np.random.seed(0)\n",
    "C.cntk_py.set_fixed_random_seed(1)\n",
    "C.cntk_py.force_deterministic_algorithms()\n",
    "\n",
    "# Define the data dimensions\n",
    "input_dim = 15104\n",
    "num_output_classes = 11"
   ]
  },
  {
   "cell_type": "code",
   "execution_count": 43,
   "metadata": {},
   "outputs": [],
   "source": [
    "# Read a CTF formatted text (as mentioned above) using the CTF deserializer from a file\n",
    "def create_reader(path, is_training, input_dim, num_label_classes):\n",
    "    \n",
    "    labelStream = C.io.StreamDef(field='labels', shape=num_label_classes, is_sparse=False)\n",
    "    featureStream = C.io.StreamDef(field='features', shape=input_dim, is_sparse=False)\n",
    "    \n",
    "    deserailizer = C.io.CTFDeserializer(path, C.io.StreamDefs(labels = labelStream, features = featureStream))\n",
    "            \n",
    "    return C.io.MinibatchSource(deserailizer,\n",
    "       randomize = is_training, max_sweeps = C.io.INFINITELY_REPEAT if is_training else 1)"
   ]
  },
  {
   "cell_type": "code",
   "execution_count": 44,
   "metadata": {},
   "outputs": [],
   "source": [
    "input = C.input_variable(input_dim)\n",
    "label = C.input_variable(num_output_classes)"
   ]
  },
  {
   "cell_type": "code",
   "execution_count": 45,
   "metadata": {},
   "outputs": [],
   "source": [
    "def create_model(features):\n",
    "    with C.layers.default_options(init = C.glorot_uniform(), activation = C.relu):\n",
    "        r = C.layers.Dense(num_output_classes, activation = None)(features)\n",
    "        return r"
   ]
  },
  {
   "cell_type": "code",
   "execution_count": 46,
   "metadata": {},
   "outputs": [],
   "source": [
    "input_s = input/255\n",
    "z = create_model(input_s)"
   ]
  },
  {
   "cell_type": "code",
   "execution_count": 47,
   "metadata": {},
   "outputs": [],
   "source": [
    "loss = C.cross_entropy_with_softmax(z, label)"
   ]
  },
  {
   "cell_type": "code",
   "execution_count": 48,
   "metadata": {},
   "outputs": [],
   "source": [
    "label_error = C.classification_error(z, label)"
   ]
  },
  {
   "cell_type": "code",
   "execution_count": 49,
   "metadata": {},
   "outputs": [],
   "source": [
    "# Instantiate the trainer object to drive the model training\n",
    "learning_rate = 0.2\n",
    "lr_schedule = C.learning_rate_schedule(learning_rate, C.UnitType.minibatch)\n",
    "learner = C.sgd(z.parameters, lr_schedule)\n",
    "trainer = C.Trainer(z, (loss, label_error), [learner])"
   ]
  },
  {
   "cell_type": "code",
   "execution_count": 50,
   "metadata": {},
   "outputs": [],
   "source": [
    "# Define a utility function to compute the moving average sum.\n",
    "# A more efficient implementation is possible with np.cumsum() function\n",
    "def moving_average(a, w=5):\n",
    "    if len(a) < w:\n",
    "        return a[:]    # Need to send a copy of the array\n",
    "    return [val if idx < w else sum(a[(idx-w):idx])/w for idx, val in enumerate(a)]\n",
    "\n",
    "\n",
    "# Defines a utility that prints the training progress\n",
    "def print_training_progress(trainer, mb, frequency, verbose=1):\n",
    "    training_loss = \"NA\"\n",
    "    eval_error = \"NA\"\n",
    "\n",
    "    if mb%frequency == 0:\n",
    "        training_loss = trainer.previous_minibatch_loss_average\n",
    "        eval_error = trainer.previous_minibatch_evaluation_average\n",
    "        if verbose: \n",
    "            print (\"Minibatch: {0}, Loss: {1:.4f}, Error: {2:.2f}%\".format(mb, training_loss, eval_error*100))\n",
    "        \n",
    "    return mb, training_loss, eval_error"
   ]
  },
  {
   "cell_type": "code",
   "execution_count": 85,
   "metadata": {},
   "outputs": [],
   "source": [
    "# Initialize the parameters for the trainer\n",
    "minibatch_size = 4\n",
    "num_samples_per_sweep = 1976\n",
    "num_sweeps_to_train_with = 11\n",
    "num_minibatches_to_train = (num_samples_per_sweep * num_sweeps_to_train_with) / minibatch_size"
   ]
  },
  {
   "cell_type": "code",
   "execution_count": 84,
   "metadata": {},
   "outputs": [],
   "source": [
    "train_file = 'C:/Users/bauer/OneDrive para la Empresa/Microsoft Capstone IA/Capstone data/Out/train.txt'"
   ]
  },
  {
   "cell_type": "code",
   "execution_count": 86,
   "metadata": {},
   "outputs": [
    {
     "name": "stdout",
     "output_type": "stream",
     "text": [
      "Minibatch: 0, Loss: 0.0000, Error: 0.00%\n",
      "Minibatch: 32, Loss: 26.2877, Error: 25.00%\n",
      "Minibatch: 64, Loss: 37.8823, Error: 75.00%\n",
      "Minibatch: 96, Loss: 0.0003, Error: 0.00%\n",
      "Minibatch: 128, Loss: 39.1290, Error: 75.00%\n",
      "Minibatch: 160, Loss: 0.0000, Error: 0.00%\n",
      "Minibatch: 192, Loss: 4.4370, Error: 50.00%\n",
      "Minibatch: 224, Loss: 6.1403, Error: 25.00%\n",
      "Minibatch: 256, Loss: 0.0000, Error: 0.00%\n",
      "Minibatch: 288, Loss: 10.5537, Error: 75.00%\n",
      "Minibatch: 320, Loss: 0.0000, Error: 0.00%\n",
      "Minibatch: 352, Loss: 0.0000, Error: 0.00%\n",
      "Minibatch: 384, Loss: 19.9383, Error: 25.00%\n",
      "Minibatch: 416, Loss: 31.7488, Error: 50.00%\n",
      "Minibatch: 448, Loss: 31.3833, Error: 50.00%\n",
      "Minibatch: 480, Loss: 41.1378, Error: 75.00%\n",
      "Minibatch: 512, Loss: 52.3654, Error: 50.00%\n",
      "Minibatch: 544, Loss: 18.1193, Error: 50.00%\n",
      "Minibatch: 576, Loss: 11.2983, Error: 25.00%\n",
      "Minibatch: 608, Loss: 8.5458, Error: 25.00%\n",
      "Minibatch: 640, Loss: 23.4762, Error: 50.00%\n",
      "Minibatch: 672, Loss: 0.0000, Error: 0.00%\n",
      "Minibatch: 704, Loss: 9.5094, Error: 50.00%\n",
      "Minibatch: 736, Loss: 46.9763, Error: 25.00%\n",
      "Minibatch: 768, Loss: 58.0045, Error: 50.00%\n",
      "Minibatch: 800, Loss: 3.3122, Error: 25.00%\n",
      "Minibatch: 832, Loss: 44.9854, Error: 50.00%\n",
      "Minibatch: 864, Loss: 8.7785, Error: 50.00%\n",
      "Minibatch: 896, Loss: 32.5488, Error: 50.00%\n",
      "Minibatch: 928, Loss: 15.7125, Error: 50.00%\n",
      "Minibatch: 960, Loss: 47.2692, Error: 50.00%\n",
      "Minibatch: 992, Loss: 0.1386, Error: 0.00%\n",
      "Minibatch: 1024, Loss: 0.0003, Error: 0.00%\n",
      "Minibatch: 1056, Loss: 7.8371, Error: 25.00%\n",
      "Minibatch: 1088, Loss: 0.0000, Error: 0.00%\n",
      "Minibatch: 1120, Loss: 0.0488, Error: 0.00%\n",
      "Minibatch: 1152, Loss: 2.1251, Error: 25.00%\n",
      "Minibatch: 1184, Loss: 0.0000, Error: 0.00%\n",
      "Minibatch: 1216, Loss: 0.0004, Error: 0.00%\n",
      "Minibatch: 1248, Loss: 11.0928, Error: 50.00%\n",
      "Minibatch: 1280, Loss: 48.7470, Error: 75.00%\n",
      "Minibatch: 1312, Loss: 0.0000, Error: 0.00%\n",
      "Minibatch: 1344, Loss: 2.9377, Error: 25.00%\n",
      "Minibatch: 1376, Loss: 1.0132, Error: 25.00%\n",
      "Minibatch: 1408, Loss: 0.0000, Error: 0.00%\n",
      "Minibatch: 1440, Loss: 10.7723, Error: 25.00%\n",
      "Minibatch: 1472, Loss: 2.7324, Error: 25.00%\n",
      "Minibatch: 1504, Loss: 19.1890, Error: 25.00%\n",
      "Minibatch: 1536, Loss: 0.0000, Error: 0.00%\n",
      "Minibatch: 1568, Loss: 16.1205, Error: 50.00%\n",
      "Minibatch: 1600, Loss: 50.7020, Error: 100.00%\n",
      "Minibatch: 1632, Loss: 0.0000, Error: 0.00%\n",
      "Minibatch: 1664, Loss: 38.5794, Error: 75.00%\n",
      "Minibatch: 1696, Loss: 3.4670, Error: 25.00%\n",
      "Minibatch: 1728, Loss: 30.4196, Error: 50.00%\n",
      "Minibatch: 1760, Loss: 0.0000, Error: 0.00%\n",
      "Minibatch: 1792, Loss: 21.2200, Error: 75.00%\n",
      "Minibatch: 1824, Loss: 0.0000, Error: 0.00%\n",
      "Minibatch: 1856, Loss: 0.0000, Error: 0.00%\n",
      "Minibatch: 1888, Loss: 18.7648, Error: 50.00%\n",
      "Minibatch: 1920, Loss: 0.0000, Error: 0.00%\n",
      "Minibatch: 1952, Loss: 15.9935, Error: 50.00%\n",
      "Minibatch: 1984, Loss: 0.9893, Error: 25.00%\n",
      "Minibatch: 2016, Loss: 0.0000, Error: 0.00%\n",
      "Minibatch: 2048, Loss: 0.0000, Error: 0.00%\n",
      "Minibatch: 2080, Loss: 0.2357, Error: 25.00%\n",
      "Minibatch: 2112, Loss: 9.8302, Error: 50.00%\n",
      "Minibatch: 2144, Loss: 35.6946, Error: 50.00%\n",
      "Minibatch: 2176, Loss: 2.3557, Error: 25.00%\n",
      "Minibatch: 2208, Loss: 0.0000, Error: 0.00%\n",
      "Minibatch: 2240, Loss: 8.5862, Error: 50.00%\n",
      "Minibatch: 2272, Loss: 0.0000, Error: 0.00%\n",
      "Minibatch: 2304, Loss: 14.6626, Error: 75.00%\n",
      "Minibatch: 2336, Loss: 25.3629, Error: 50.00%\n",
      "Minibatch: 2368, Loss: 15.2319, Error: 75.00%\n",
      "Minibatch: 2400, Loss: 9.3161, Error: 25.00%\n",
      "Minibatch: 2432, Loss: 5.2416, Error: 25.00%\n",
      "Minibatch: 2464, Loss: 8.9154, Error: 50.00%\n",
      "Minibatch: 2496, Loss: 18.7013, Error: 50.00%\n",
      "Minibatch: 2528, Loss: 0.0000, Error: 0.00%\n",
      "Minibatch: 2560, Loss: 26.8399, Error: 50.00%\n",
      "Minibatch: 2592, Loss: 24.6410, Error: 50.00%\n",
      "Minibatch: 2624, Loss: 0.0000, Error: 0.00%\n",
      "Minibatch: 2656, Loss: 4.0278, Error: 25.00%\n",
      "Minibatch: 2688, Loss: 2.3226, Error: 25.00%\n",
      "Minibatch: 2720, Loss: 13.2784, Error: 25.00%\n",
      "Minibatch: 2752, Loss: 0.2736, Error: 25.00%\n",
      "Minibatch: 2784, Loss: 0.0000, Error: 0.00%\n",
      "Minibatch: 2816, Loss: 10.3856, Error: 50.00%\n",
      "Minibatch: 2848, Loss: 37.3718, Error: 25.00%\n",
      "Minibatch: 2880, Loss: 16.6088, Error: 25.00%\n",
      "Minibatch: 2912, Loss: 10.3318, Error: 25.00%\n",
      "Minibatch: 2944, Loss: 0.0000, Error: 0.00%\n",
      "Minibatch: 2976, Loss: 1.9057, Error: 25.00%\n",
      "Minibatch: 3008, Loss: 0.3430, Error: 25.00%\n",
      "Minibatch: 3040, Loss: 0.0000, Error: 0.00%\n",
      "Minibatch: 3072, Loss: 0.0056, Error: 0.00%\n",
      "Minibatch: 3104, Loss: 19.7756, Error: 50.00%\n",
      "Minibatch: 3136, Loss: 3.4082, Error: 25.00%\n",
      "Minibatch: 3168, Loss: 27.7757, Error: 50.00%\n",
      "Minibatch: 3200, Loss: 0.0000, Error: 0.00%\n",
      "Minibatch: 3232, Loss: 16.9954, Error: 25.00%\n",
      "Minibatch: 3264, Loss: 10.3759, Error: 50.00%\n",
      "Minibatch: 3296, Loss: 0.0000, Error: 0.00%\n",
      "Minibatch: 3328, Loss: 0.2152, Error: 25.00%\n",
      "Minibatch: 3360, Loss: 39.1876, Error: 50.00%\n",
      "Minibatch: 3392, Loss: 33.7112, Error: 25.00%\n",
      "Minibatch: 3424, Loss: 0.3682, Error: 25.00%\n",
      "Minibatch: 3456, Loss: 0.0009, Error: 0.00%\n",
      "Minibatch: 3488, Loss: 3.2168, Error: 25.00%\n",
      "Minibatch: 3520, Loss: 12.0084, Error: 75.00%\n",
      "Minibatch: 3552, Loss: 41.0991, Error: 50.00%\n",
      "Minibatch: 3584, Loss: 5.3033, Error: 25.00%\n",
      "Minibatch: 3616, Loss: 14.9535, Error: 50.00%\n",
      "Minibatch: 3648, Loss: 0.0064, Error: 0.00%\n",
      "Minibatch: 3680, Loss: 12.3757, Error: 25.00%\n",
      "Minibatch: 3712, Loss: 0.0000, Error: 0.00%\n",
      "Minibatch: 3744, Loss: 4.5281, Error: 25.00%\n",
      "Minibatch: 3776, Loss: 0.0000, Error: 0.00%\n",
      "Minibatch: 3808, Loss: 16.9814, Error: 25.00%\n",
      "Minibatch: 3840, Loss: 7.3842, Error: 25.00%\n",
      "Minibatch: 3872, Loss: 20.6896, Error: 75.00%\n",
      "Minibatch: 3904, Loss: 10.8510, Error: 50.00%\n",
      "Minibatch: 3936, Loss: 26.8524, Error: 25.00%\n",
      "Minibatch: 3968, Loss: 0.0044, Error: 0.00%\n",
      "Minibatch: 4000, Loss: 9.5561, Error: 50.00%\n",
      "Minibatch: 4032, Loss: 32.0532, Error: 75.00%\n",
      "Minibatch: 4064, Loss: 0.0000, Error: 0.00%\n",
      "Minibatch: 4096, Loss: 27.0563, Error: 25.00%\n",
      "Minibatch: 4128, Loss: 4.2078, Error: 25.00%\n",
      "Minibatch: 4160, Loss: 0.0983, Error: 0.00%\n",
      "Minibatch: 4192, Loss: 0.0000, Error: 0.00%\n",
      "Minibatch: 4224, Loss: 13.9463, Error: 25.00%\n",
      "Minibatch: 4256, Loss: 0.0000, Error: 0.00%\n",
      "Minibatch: 4288, Loss: 0.0709, Error: 0.00%\n",
      "Minibatch: 4320, Loss: 12.8775, Error: 50.00%\n",
      "Minibatch: 4352, Loss: 0.0052, Error: 0.00%\n",
      "Minibatch: 4384, Loss: 0.0205, Error: 0.00%\n",
      "Minibatch: 4416, Loss: 0.0005, Error: 0.00%\n",
      "Minibatch: 4448, Loss: 0.0000, Error: 0.00%\n",
      "Minibatch: 4480, Loss: 14.6542, Error: 25.00%\n",
      "Minibatch: 4512, Loss: 11.8677, Error: 50.00%\n",
      "Minibatch: 4544, Loss: 8.7267, Error: 25.00%\n",
      "Minibatch: 4576, Loss: 0.3849, Error: 25.00%\n",
      "Minibatch: 4608, Loss: 25.5821, Error: 50.00%\n",
      "Minibatch: 4640, Loss: 7.2743, Error: 25.00%\n",
      "Minibatch: 4672, Loss: 4.1860, Error: 50.00%\n",
      "Minibatch: 4704, Loss: 11.7703, Error: 75.00%\n",
      "Minibatch: 4736, Loss: 0.0000, Error: 0.00%\n",
      "Minibatch: 4768, Loss: 0.0000, Error: 0.00%\n",
      "Minibatch: 4800, Loss: 3.5597, Error: 25.00%\n",
      "Minibatch: 4832, Loss: 0.0000, Error: 0.00%\n",
      "Minibatch: 4864, Loss: 8.7286, Error: 50.00%\n",
      "Minibatch: 4896, Loss: 0.0000, Error: 0.00%\n",
      "Minibatch: 4928, Loss: 29.2552, Error: 50.00%\n",
      "Minibatch: 4960, Loss: 0.0000, Error: 0.00%\n",
      "Minibatch: 4992, Loss: 6.1212, Error: 25.00%\n",
      "Minibatch: 5024, Loss: 0.0000, Error: 0.00%\n",
      "Minibatch: 5056, Loss: 7.2715, Error: 50.00%\n",
      "Minibatch: 5088, Loss: 9.3386, Error: 50.00%\n",
      "Minibatch: 5120, Loss: 0.0000, Error: 0.00%\n",
      "Minibatch: 5152, Loss: 0.0000, Error: 0.00%\n",
      "Minibatch: 5184, Loss: 0.0000, Error: 0.00%\n",
      "Minibatch: 5216, Loss: 48.9311, Error: 50.00%\n",
      "Minibatch: 5248, Loss: 9.3439, Error: 25.00%\n",
      "Minibatch: 5280, Loss: 19.6126, Error: 50.00%\n",
      "Minibatch: 5312, Loss: 0.2268, Error: 0.00%\n",
      "Minibatch: 5344, Loss: 0.0018, Error: 0.00%\n",
      "Minibatch: 5376, Loss: 0.0000, Error: 0.00%\n",
      "Minibatch: 5408, Loss: 0.0639, Error: 0.00%\n"
     ]
    }
   ],
   "source": [
    "# Create the reader to training data set\n",
    "reader_train = create_reader(train_file, True, input_dim, num_output_classes)\n",
    "\n",
    "# Map the data streams to the input and labels.\n",
    "input_map = {\n",
    "    label  : reader_train.streams.labels,\n",
    "    input  : reader_train.streams.features\n",
    "} \n",
    "\n",
    "# Run the trainer on and perform model training\n",
    "training_progress_output_freq = 32\n",
    "\n",
    "plotdata = {\"batchsize\":[], \"loss\":[], \"error\":[]}\n",
    "\n",
    "for i in range(0, int(num_minibatches_to_train)):\n",
    "    \n",
    "    # Read a mini batch from the training data file\n",
    "    data = reader_train.next_minibatch(minibatch_size, input_map = input_map)\n",
    "    \n",
    "    trainer.train_minibatch(data)\n",
    "    batchsize, loss, error = print_training_progress(trainer, i, training_progress_output_freq, verbose=1)\n",
    "    \n",
    "    if not (loss == \"NA\" or error ==\"NA\"):\n",
    "        plotdata[\"batchsize\"].append(batchsize)\n",
    "        plotdata[\"loss\"].append(loss)\n",
    "        plotdata[\"error\"].append(error)"
   ]
  },
  {
   "cell_type": "code",
   "execution_count": 87,
   "metadata": {},
   "outputs": [
    {
     "data": {
      "image/png": "[encoded data removed]",
      "text/plain": [
       "<Figure size 432x288 with 1 Axes>"
      ]
     },
     "metadata": {
      "needs_background": "light"
     },
     "output_type": "display_data"
    },
    {
     "data": {
      "image/png": "[encoded data removed]",
      "text/plain": [
       "<Figure size 432x288 with 1 Axes>"
      ]
     },
     "metadata": {
      "needs_background": "light"
     },
     "output_type": "display_data"
    }
   ],
   "source": [
    "# Compute the moving average loss to smooth out the noise in SGD\n",
    "plotdata[\"avgloss\"] = moving_average(plotdata[\"loss\"])\n",
    "plotdata[\"avgerror\"] = moving_average(plotdata[\"error\"])\n",
    "\n",
    "# Plot the training loss and the training error\n",
    "import matplotlib.pyplot as plt\n",
    "\n",
    "plt.figure(1)\n",
    "plt.subplot(211)\n",
    "plt.plot(plotdata[\"batchsize\"], plotdata[\"avgloss\"], 'b--')\n",
    "plt.xlabel('Minibatch number')\n",
    "plt.ylabel('Loss')\n",
    "plt.title('Minibatch run vs. Training loss')\n",
    "\n",
    "plt.show()\n",
    "\n",
    "plt.subplot(212)\n",
    "plt.plot(plotdata[\"batchsize\"], plotdata[\"avgerror\"], 'r--')\n",
    "plt.xlabel('Minibatch number')\n",
    "plt.ylabel('Label Prediction Error')\n",
    "plt.title('Minibatch run vs. Label Prediction Error')\n",
    "plt.show()"
   ]
  },
  {
   "cell_type": "code",
   "execution_count": 88,
   "metadata": {},
   "outputs": [],
   "source": [
    "test_file = 'C:/Users/bauer/OneDrive para la Empresa/Microsoft Capstone IA/Capstone data/Out/test.txt'"
   ]
  },
  {
   "cell_type": "code",
   "execution_count": 95,
   "metadata": {},
   "outputs": [
    {
     "ename": "RuntimeError",
     "evalue": "Malformed input file. Bailing out.\n\n[CALL STACK]\n    > Microsoft::MSR::CNTK::IDataReader::  SupportsDistributedMBRead\n    - Microsoft::MSR::CNTK::IDataReader::  SupportsDistributedMBRead (x4)\n    - CreateCompositeDataReader (x3)\n    - CNTK::TrainingParameterSchedule<unsigned __int64>::  GetMinibatchSize (x5)\n    - Microsoft::MSR::CNTK::IDataReader::  operator= (x2)\n    - Concurrency::details::_ContextCallback::  _CallInContext\n\n",
     "output_type": "error",
     "traceback": [
      "\u001b[1;31m---------------------------------------------------------------------------\u001b[0m",
      "\u001b[1;31mRuntimeError\u001b[0m                              Traceback (most recent call last)",
      "\u001b[1;32m<ipython-input-95-859a7209a060>\u001b[0m in \u001b[0;36m<module>\u001b[1;34m\u001b[0m\n\u001b[0;32m     20\u001b[0m     \u001b[1;31m# trained model.\u001b[0m\u001b[1;33m\u001b[0m\u001b[1;33m\u001b[0m\u001b[0m\n\u001b[0;32m     21\u001b[0m     data = reader_test.next_minibatch(test_minibatch_size,\n\u001b[1;32m---> 22\u001b[1;33m                                       input_map = test_input_map)\n\u001b[0m\u001b[0;32m     23\u001b[0m \u001b[1;33m\u001b[0m\u001b[0m\n\u001b[0;32m     24\u001b[0m     \u001b[0meval_error\u001b[0m \u001b[1;33m=\u001b[0m \u001b[0mtrainer\u001b[0m\u001b[1;33m.\u001b[0m\u001b[0mtest_minibatch\u001b[0m\u001b[1;33m(\u001b[0m\u001b[0mdata\u001b[0m\u001b[1;33m)\u001b[0m\u001b[1;33m\u001b[0m\u001b[0m\n",
      "\u001b[1;32m~\\Anaconda3\\lib\\site-packages\\cntk\\internal\\swig_helper.py\u001b[0m in \u001b[0;36mwrapper\u001b[1;34m(*args, **kwds)\u001b[0m\n\u001b[0;32m     67\u001b[0m     \u001b[1;33m@\u001b[0m\u001b[0mwraps\u001b[0m\u001b[1;33m(\u001b[0m\u001b[0mf\u001b[0m\u001b[1;33m)\u001b[0m\u001b[1;33m\u001b[0m\u001b[0m\n\u001b[0;32m     68\u001b[0m     \u001b[1;32mdef\u001b[0m \u001b[0mwrapper\u001b[0m\u001b[1;33m(\u001b[0m\u001b[1;33m*\u001b[0m\u001b[0margs\u001b[0m\u001b[1;33m,\u001b[0m \u001b[1;33m**\u001b[0m\u001b[0mkwds\u001b[0m\u001b[1;33m)\u001b[0m\u001b[1;33m:\u001b[0m\u001b[1;33m\u001b[0m\u001b[0m\n\u001b[1;32m---> 69\u001b[1;33m         \u001b[0mresult\u001b[0m \u001b[1;33m=\u001b[0m \u001b[0mf\u001b[0m\u001b[1;33m(\u001b[0m\u001b[1;33m*\u001b[0m\u001b[0margs\u001b[0m\u001b[1;33m,\u001b[0m \u001b[1;33m**\u001b[0m\u001b[0mkwds\u001b[0m\u001b[1;33m)\u001b[0m\u001b[1;33m\u001b[0m\u001b[0m\n\u001b[0m\u001b[0;32m     70\u001b[0m         \u001b[0mmap_if_possible\u001b[0m\u001b[1;33m(\u001b[0m\u001b[0mresult\u001b[0m\u001b[1;33m)\u001b[0m\u001b[1;33m\u001b[0m\u001b[0m\n\u001b[0;32m     71\u001b[0m         \u001b[1;32mreturn\u001b[0m \u001b[0mresult\u001b[0m\u001b[1;33m\u001b[0m\u001b[0m\n",
      "\u001b[1;32m~\\Anaconda3\\lib\\site-packages\\cntk\\io\\__init__.py\u001b[0m in \u001b[0;36mnext_minibatch\u001b[1;34m(self, minibatch_size_in_samples, input_map, device, num_data_partitions, partition_index)\u001b[0m\n\u001b[0;32m    327\u001b[0m                                             \u001b[0mminibatch_size_in_samples\u001b[0m\u001b[1;33m,\u001b[0m\u001b[1;33m\u001b[0m\u001b[0m\n\u001b[0;32m    328\u001b[0m                                             \u001b[0mnum_data_partitions\u001b[0m\u001b[1;33m,\u001b[0m\u001b[1;33m\u001b[0m\u001b[0m\n\u001b[1;32m--> 329\u001b[1;33m                                             partition_index, device)\n\u001b[0m\u001b[0;32m    330\u001b[0m \u001b[1;33m\u001b[0m\u001b[0m\n\u001b[0;32m    331\u001b[0m         \u001b[1;32mif\u001b[0m \u001b[1;32mnot\u001b[0m \u001b[0mmb\u001b[0m\u001b[1;33m:\u001b[0m\u001b[1;33m\u001b[0m\u001b[0m\n",
      "\u001b[1;32m~\\Anaconda3\\lib\\site-packages\\cntk\\cntk_py.py\u001b[0m in \u001b[0;36mget_next_minibatch\u001b[1;34m(self, *args)\u001b[0m\n\u001b[0;32m   3141\u001b[0m \u001b[1;33m\u001b[0m\u001b[0m\n\u001b[0;32m   3142\u001b[0m     \u001b[1;32mdef\u001b[0m \u001b[0mget_next_minibatch\u001b[0m\u001b[1;33m(\u001b[0m\u001b[0mself\u001b[0m\u001b[1;33m,\u001b[0m \u001b[1;33m*\u001b[0m\u001b[0margs\u001b[0m\u001b[1;33m)\u001b[0m\u001b[1;33m:\u001b[0m\u001b[1;33m\u001b[0m\u001b[0m\n\u001b[1;32m-> 3143\u001b[1;33m         \u001b[1;32mreturn\u001b[0m \u001b[0m_cntk_py\u001b[0m\u001b[1;33m.\u001b[0m\u001b[0mMinibatchSource_get_next_minibatch\u001b[0m\u001b[1;33m(\u001b[0m\u001b[0mself\u001b[0m\u001b[1;33m,\u001b[0m \u001b[1;33m*\u001b[0m\u001b[0margs\u001b[0m\u001b[1;33m)\u001b[0m\u001b[1;33m\u001b[0m\u001b[0m\n\u001b[0m\u001b[0;32m   3144\u001b[0m \u001b[0mMinibatchSource_swigregister\u001b[0m \u001b[1;33m=\u001b[0m \u001b[0m_cntk_py\u001b[0m\u001b[1;33m.\u001b[0m\u001b[0mMinibatchSource_swigregister\u001b[0m\u001b[1;33m\u001b[0m\u001b[0m\n\u001b[0;32m   3145\u001b[0m \u001b[0mMinibatchSource_swigregister\u001b[0m\u001b[1;33m(\u001b[0m\u001b[0mMinibatchSource\u001b[0m\u001b[1;33m)\u001b[0m\u001b[1;33m\u001b[0m\u001b[0m\n",
      "\u001b[1;31mRuntimeError\u001b[0m: Malformed input file. Bailing out.\n\n[CALL STACK]\n    > Microsoft::MSR::CNTK::IDataReader::  SupportsDistributedMBRead\n    - Microsoft::MSR::CNTK::IDataReader::  SupportsDistributedMBRead (x4)\n    - CreateCompositeDataReader (x3)\n    - CNTK::TrainingParameterSchedule<unsigned __int64>::  GetMinibatchSize (x5)\n    - Microsoft::MSR::CNTK::IDataReader::  operator= (x2)\n    - Concurrency::details::_ContextCallback::  _CallInContext\n\n"
     ]
    }
   ],
   "source": [
    "# Read the training data\n",
    "reader_test = create_reader(test_file, False, input_dim, num_output_classes)\n",
    "\n",
    "test_input_map = {\n",
    "    label  : reader_test.streams.labels,\n",
    "    input  : reader_test.streams.features,\n",
    "}\n",
    "\n",
    "# Test data for trained model\n",
    "test_minibatch_size = 4\n",
    "num_samples = 659\n",
    "num_minibatches_to_test = num_samples // test_minibatch_size\n",
    "test_result = 0.0\n",
    "\n",
    "for i in range(num_minibatches_to_test):\n",
    "    \n",
    "    # We are loading test data in batches specified by test_minibatch_size\n",
    "    # Each data point in the minibatch is a MNIST digit image of 784 dimensions \n",
    "    # with one pixel per dimension that we will encode / decode with the \n",
    "    # trained model.\n",
    "    data = reader_test.next_minibatch(test_minibatch_size,\n",
    "                                      input_map = test_input_map)\n",
    "\n",
    "    eval_error = trainer.test_minibatch(data)\n",
    "    test_result = test_result + eval_error\n",
    "\n",
    "# Average of evaluation errors of all test minibatches\n",
    "print(\"Average test error: {0:.2f}%\".format(test_result*100 / num_minibatches_to_test))"
   ]
  },
  {
   "cell_type": "code",
   "execution_count": 90,
   "metadata": {},
   "outputs": [],
   "source": [
    "out = C.softmax(z)"
   ]
  },
  {
   "cell_type": "code",
   "execution_count": 92,
   "metadata": {
    "collapsed": true
   },
   "outputs": [
    {
     "ename": "RuntimeError",
     "evalue": "Malformed input file. Bailing out.\n\n[CALL STACK]\n    > Microsoft::MSR::CNTK::IDataReader::  SupportsDistributedMBRead\n    - Microsoft::MSR::CNTK::IDataReader::  SupportsDistributedMBRead (x4)\n    - CreateCompositeDataReader (x3)\n    - CNTK::TrainingParameterSchedule<unsigned __int64>::  GetMinibatchSize (x5)\n    - Microsoft::MSR::CNTK::IDataReader::  operator= (x2)\n    - Concurrency::details::_ContextCallback::  _CallInContext\n\n",
     "output_type": "error",
     "traceback": [
      "\u001b[1;31m---------------------------------------------------------------------------\u001b[0m",
      "\u001b[1;31mRuntimeError\u001b[0m                              Traceback (most recent call last)",
      "\u001b[1;32m<ipython-input-92-3adf4e989f9c>\u001b[0m in \u001b[0;36m<module>\u001b[1;34m\u001b[0m\n\u001b[0;32m      5\u001b[0m \u001b[0meval_input_map\u001b[0m \u001b[1;33m=\u001b[0m \u001b[1;33m{\u001b[0m\u001b[0minput\u001b[0m\u001b[1;33m:\u001b[0m \u001b[0mreader_eval\u001b[0m\u001b[1;33m.\u001b[0m\u001b[0mstreams\u001b[0m\u001b[1;33m.\u001b[0m\u001b[0mfeatures\u001b[0m\u001b[1;33m}\u001b[0m\u001b[1;33m\u001b[0m\u001b[0m\n\u001b[0;32m      6\u001b[0m \u001b[1;33m\u001b[0m\u001b[0m\n\u001b[1;32m----> 7\u001b[1;33m \u001b[0mdata\u001b[0m \u001b[1;33m=\u001b[0m \u001b[0mreader_test\u001b[0m\u001b[1;33m.\u001b[0m\u001b[0mnext_minibatch\u001b[0m\u001b[1;33m(\u001b[0m\u001b[0meval_minibatch_size\u001b[0m\u001b[1;33m,\u001b[0m \u001b[0minput_map\u001b[0m \u001b[1;33m=\u001b[0m \u001b[0meval_input_map\u001b[0m\u001b[1;33m)\u001b[0m\u001b[1;33m\u001b[0m\u001b[0m\n\u001b[0m\u001b[0;32m      8\u001b[0m \u001b[1;33m\u001b[0m\u001b[0m\n\u001b[0;32m      9\u001b[0m \u001b[0mimg_label\u001b[0m \u001b[1;33m=\u001b[0m \u001b[0mdata\u001b[0m\u001b[1;33m[\u001b[0m\u001b[0mlabel\u001b[0m\u001b[1;33m]\u001b[0m\u001b[1;33m.\u001b[0m\u001b[0masarray\u001b[0m\u001b[1;33m(\u001b[0m\u001b[1;33m)\u001b[0m\u001b[1;33m\u001b[0m\u001b[0m\n",
      "\u001b[1;32m~\\Anaconda3\\lib\\site-packages\\cntk\\internal\\swig_helper.py\u001b[0m in \u001b[0;36mwrapper\u001b[1;34m(*args, **kwds)\u001b[0m\n\u001b[0;32m     67\u001b[0m     \u001b[1;33m@\u001b[0m\u001b[0mwraps\u001b[0m\u001b[1;33m(\u001b[0m\u001b[0mf\u001b[0m\u001b[1;33m)\u001b[0m\u001b[1;33m\u001b[0m\u001b[0m\n\u001b[0;32m     68\u001b[0m     \u001b[1;32mdef\u001b[0m \u001b[0mwrapper\u001b[0m\u001b[1;33m(\u001b[0m\u001b[1;33m*\u001b[0m\u001b[0margs\u001b[0m\u001b[1;33m,\u001b[0m \u001b[1;33m**\u001b[0m\u001b[0mkwds\u001b[0m\u001b[1;33m)\u001b[0m\u001b[1;33m:\u001b[0m\u001b[1;33m\u001b[0m\u001b[0m\n\u001b[1;32m---> 69\u001b[1;33m         \u001b[0mresult\u001b[0m \u001b[1;33m=\u001b[0m \u001b[0mf\u001b[0m\u001b[1;33m(\u001b[0m\u001b[1;33m*\u001b[0m\u001b[0margs\u001b[0m\u001b[1;33m,\u001b[0m \u001b[1;33m**\u001b[0m\u001b[0mkwds\u001b[0m\u001b[1;33m)\u001b[0m\u001b[1;33m\u001b[0m\u001b[0m\n\u001b[0m\u001b[0;32m     70\u001b[0m         \u001b[0mmap_if_possible\u001b[0m\u001b[1;33m(\u001b[0m\u001b[0mresult\u001b[0m\u001b[1;33m)\u001b[0m\u001b[1;33m\u001b[0m\u001b[0m\n\u001b[0;32m     71\u001b[0m         \u001b[1;32mreturn\u001b[0m \u001b[0mresult\u001b[0m\u001b[1;33m\u001b[0m\u001b[0m\n",
      "\u001b[1;32m~\\Anaconda3\\lib\\site-packages\\cntk\\io\\__init__.py\u001b[0m in \u001b[0;36mnext_minibatch\u001b[1;34m(self, minibatch_size_in_samples, input_map, device, num_data_partitions, partition_index)\u001b[0m\n\u001b[0;32m    327\u001b[0m                                             \u001b[0mminibatch_size_in_samples\u001b[0m\u001b[1;33m,\u001b[0m\u001b[1;33m\u001b[0m\u001b[0m\n\u001b[0;32m    328\u001b[0m                                             \u001b[0mnum_data_partitions\u001b[0m\u001b[1;33m,\u001b[0m\u001b[1;33m\u001b[0m\u001b[0m\n\u001b[1;32m--> 329\u001b[1;33m                                             partition_index, device)\n\u001b[0m\u001b[0;32m    330\u001b[0m \u001b[1;33m\u001b[0m\u001b[0m\n\u001b[0;32m    331\u001b[0m         \u001b[1;32mif\u001b[0m \u001b[1;32mnot\u001b[0m \u001b[0mmb\u001b[0m\u001b[1;33m:\u001b[0m\u001b[1;33m\u001b[0m\u001b[0m\n",
      "\u001b[1;32m~\\Anaconda3\\lib\\site-packages\\cntk\\cntk_py.py\u001b[0m in \u001b[0;36mget_next_minibatch\u001b[1;34m(self, *args)\u001b[0m\n\u001b[0;32m   3141\u001b[0m \u001b[1;33m\u001b[0m\u001b[0m\n\u001b[0;32m   3142\u001b[0m     \u001b[1;32mdef\u001b[0m \u001b[0mget_next_minibatch\u001b[0m\u001b[1;33m(\u001b[0m\u001b[0mself\u001b[0m\u001b[1;33m,\u001b[0m \u001b[1;33m*\u001b[0m\u001b[0margs\u001b[0m\u001b[1;33m)\u001b[0m\u001b[1;33m:\u001b[0m\u001b[1;33m\u001b[0m\u001b[0m\n\u001b[1;32m-> 3143\u001b[1;33m         \u001b[1;32mreturn\u001b[0m \u001b[0m_cntk_py\u001b[0m\u001b[1;33m.\u001b[0m\u001b[0mMinibatchSource_get_next_minibatch\u001b[0m\u001b[1;33m(\u001b[0m\u001b[0mself\u001b[0m\u001b[1;33m,\u001b[0m \u001b[1;33m*\u001b[0m\u001b[0margs\u001b[0m\u001b[1;33m)\u001b[0m\u001b[1;33m\u001b[0m\u001b[0m\n\u001b[0m\u001b[0;32m   3144\u001b[0m \u001b[0mMinibatchSource_swigregister\u001b[0m \u001b[1;33m=\u001b[0m \u001b[0m_cntk_py\u001b[0m\u001b[1;33m.\u001b[0m\u001b[0mMinibatchSource_swigregister\u001b[0m\u001b[1;33m\u001b[0m\u001b[0m\n\u001b[0;32m   3145\u001b[0m \u001b[0mMinibatchSource_swigregister\u001b[0m\u001b[1;33m(\u001b[0m\u001b[0mMinibatchSource\u001b[0m\u001b[1;33m)\u001b[0m\u001b[1;33m\u001b[0m\u001b[0m\n",
      "\u001b[1;31mRuntimeError\u001b[0m: Malformed input file. Bailing out.\n\n[CALL STACK]\n    > Microsoft::MSR::CNTK::IDataReader::  SupportsDistributedMBRead\n    - Microsoft::MSR::CNTK::IDataReader::  SupportsDistributedMBRead (x4)\n    - CreateCompositeDataReader (x3)\n    - CNTK::TrainingParameterSchedule<unsigned __int64>::  GetMinibatchSize (x5)\n    - Microsoft::MSR::CNTK::IDataReader::  operator= (x2)\n    - Concurrency::details::_ContextCallback::  _CallInContext\n\n"
     ]
    }
   ],
   "source": [
    "# Read the data for evaluation\n",
    "reader_eval = create_reader(test_file, False, input_dim, num_output_classes)\n",
    "\n",
    "eval_minibatch_size = 25\n",
    "eval_input_map = {input: reader_eval.streams.features} \n",
    "\n",
    "data = reader_test.next_minibatch(eval_minibatch_size, input_map = test_input_map)\n",
    "\n",
    "img_label = data[label].asarray()\n",
    "img_data = data[input].asarray()\n",
    "predicted_label_prob = [out.eval(img_data[i]) for i in range(len(img_data))]"
   ]
  },
  {
   "cell_type": "code",
   "execution_count": 93,
   "metadata": {},
   "outputs": [
    {
     "ename": "NameError",
     "evalue": "name 'predicted_label_prob' is not defined",
     "output_type": "error",
     "traceback": [
      "\u001b[1;31m---------------------------------------------------------------------------\u001b[0m",
      "\u001b[1;31mNameError\u001b[0m                                 Traceback (most recent call last)",
      "\u001b[1;32m<ipython-input-93-a6ff45d15c79>\u001b[0m in \u001b[0;36m<module>\u001b[1;34m\u001b[0m\n\u001b[0;32m      1\u001b[0m \u001b[1;31m# Find the index with the maximum value for both predicted as well as the ground truth\u001b[0m\u001b[1;33m\u001b[0m\u001b[1;33m\u001b[0m\u001b[0m\n\u001b[1;32m----> 2\u001b[1;33m \u001b[0mpred\u001b[0m \u001b[1;33m=\u001b[0m \u001b[1;33m[\u001b[0m\u001b[0mnp\u001b[0m\u001b[1;33m.\u001b[0m\u001b[0margmax\u001b[0m\u001b[1;33m(\u001b[0m\u001b[0mpredicted_label_prob\u001b[0m\u001b[1;33m[\u001b[0m\u001b[0mi\u001b[0m\u001b[1;33m]\u001b[0m\u001b[1;33m)\u001b[0m \u001b[1;32mfor\u001b[0m \u001b[0mi\u001b[0m \u001b[1;32min\u001b[0m \u001b[0mrange\u001b[0m\u001b[1;33m(\u001b[0m\u001b[0mlen\u001b[0m\u001b[1;33m(\u001b[0m\u001b[0mpredicted_label_prob\u001b[0m\u001b[1;33m)\u001b[0m\u001b[1;33m)\u001b[0m\u001b[1;33m]\u001b[0m\u001b[1;33m\u001b[0m\u001b[0m\n\u001b[0m\u001b[0;32m      3\u001b[0m \u001b[0mgtlabel\u001b[0m \u001b[1;33m=\u001b[0m \u001b[1;33m[\u001b[0m\u001b[0mnp\u001b[0m\u001b[1;33m.\u001b[0m\u001b[0margmax\u001b[0m\u001b[1;33m(\u001b[0m\u001b[0mimg_label\u001b[0m\u001b[1;33m[\u001b[0m\u001b[0mi\u001b[0m\u001b[1;33m]\u001b[0m\u001b[1;33m)\u001b[0m \u001b[1;32mfor\u001b[0m \u001b[0mi\u001b[0m \u001b[1;32min\u001b[0m \u001b[0mrange\u001b[0m\u001b[1;33m(\u001b[0m\u001b[0mlen\u001b[0m\u001b[1;33m(\u001b[0m\u001b[0mimg_label\u001b[0m\u001b[1;33m)\u001b[0m\u001b[1;33m)\u001b[0m\u001b[1;33m]\u001b[0m\u001b[1;33m\u001b[0m\u001b[0m\n",
      "\u001b[1;31mNameError\u001b[0m: name 'predicted_label_prob' is not defined"
     ]
    }
   ],
   "source": [
    "# Find the index with the maximum value for both predicted as well as the ground truth\n",
    "pred = [np.argmax(predicted_label_prob[i]) for i in range(len(predicted_label_prob))]\n",
    "gtlabel = [np.argmax(img_label[i]) for i in range(len(img_label))]"
   ]
  },
  {
   "cell_type": "code",
   "execution_count": null,
   "metadata": {},
   "outputs": [],
   "source": []
  }
 ],
 "metadata": {
  "kernelspec": {
   "display_name": "Python 3",
   "language": "python",
   "name": "python3"
  },
  "language_info": {
   "codemirror_mode": {
    "name": "ipython",
    "version": 3
   },
   "file_extension": ".py",
   "mimetype": "text/x-python",
   "name": "python",
   "nbconvert_exporter": "python",
   "pygments_lexer": "ipython3",
   "version": "3.6.6"
  }
 },
 "nbformat": 4,
 "nbformat_minor": 2
}
