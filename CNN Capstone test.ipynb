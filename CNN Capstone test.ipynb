{
 "cells": [
  {
   "cell_type": "markdown",
   "metadata": {},
   "source": [
    "# CNN Model Test"
   ]
  },
  {
   "cell_type": "markdown",
   "metadata": {},
   "source": [
    "### Imports"
   ]
  },
  {
   "cell_type": "code",
   "execution_count": 1,
   "metadata": {},
   "outputs": [
    {
     "name": "stderr",
     "output_type": "stream",
     "text": [
      "C:\\Users\\A702628\\AppData\\Local\\Continuum\\anaconda3\\lib\\site-packages\\skimage\\viewer\\utils\\core.py:10: UserWarning: Recommended matplotlib backend is `Agg` for full skimage.viewer functionality.\n",
      "  warn(\"Recommended matplotlib backend is `Agg` for full \"\n"
     ]
    },
    {
     "name": "stdout",
     "output_type": "stream",
     "text": [
      "libraries imported!!\n"
     ]
    }
   ],
   "source": [
    "from skimage import io\n",
    "from skimage.color import rgb2gray\n",
    "from skimage.viewer import ImageViewer\n",
    "import matplotlib.pyplot as plt\n",
    "from scipy import misc\n",
    "import cv2\n",
    "import os\n",
    "import numpy as np\n",
    "\n",
    "print('libraries imported!!')"
   ]
  },
  {
   "cell_type": "markdown",
   "metadata": {},
   "source": [
    "### Load data"
   ]
  },
  {
   "cell_type": "code",
   "execution_count": 2,
   "metadata": {},
   "outputs": [
    {
     "name": "stdout",
     "output_type": "stream",
     "text": [
      "C:\\Users\\A702628\\OneDrive - Atos\\Microsoft Capstone IA\n",
      "988\n",
      "988\n",
      "659\n",
      "659\n",
      "988\n"
     ]
    }
   ],
   "source": [
    "print(os.getcwd())\n",
    "\n",
    "train_img_dir = os.getcwd() + '/Capstone data/train/'\n",
    "test_img_dir = os.getcwd() + '/Capstone data/test/'\n",
    "\n",
    "#spectrogram of current \n",
    "train_img_names_c = [x for x in os.listdir(train_img_dir) if x.endswith('_c.png')]\n",
    "\n",
    "#spectrogram of voltage\n",
    "train_img_names_v = [x for x in os.listdir(train_img_dir) if x.endswith('_v.png')]\n",
    "\n",
    "#spectrogram of current \n",
    "test_img_names_c = [x for x in os.listdir(test_img_dir) if x.endswith('_c.png')]\n",
    "\n",
    "#spectrogram of voltage\n",
    "test_img_names_v = [x for x in os.listdir(test_img_dir) if x.endswith('_v.png')]\n",
    "\n",
    "\n",
    "print(len(train_img_names_c))\n",
    "print(len(train_img_names_v))\n",
    "\n",
    "print(len(test_img_names_c))\n",
    "print(len(test_img_names_v))\n",
    "print(len(train_img_names_c))\n",
    "\n",
    "all_train_images = np.ones((len(train_img_names_c), 128, 118)) #if as_grey=True\n",
    "all_test_images = np.ones((len(test_img_names_c), 128, 118)) #if as_grey=True"
   ]
  },
  {
   "cell_type": "code",
   "execution_count": 3,
   "metadata": {},
   "outputs": [
    {
     "name": "stdout",
     "output_type": "stream",
     "text": [
      "all_train_images.shape (988, 128, 118)\n",
      "all_test_images.shape (659, 128, 118)\n"
     ]
    }
   ],
   "source": [
    "i = 0\n",
    "for im in train_img_names_c:\n",
    "\n",
    "    # Load an color image in grayscale\n",
    "    my_image = cv2.imread(train_img_dir + '/' + im,0)\n",
    "\n",
    "\n",
    "    all_train_images[i] = my_image\n",
    "    i = i + 1\n",
    "\n",
    "    \n",
    "i = 0\n",
    "for im in test_img_names_c:\n",
    "    #print(im)\n",
    "    my_image = cv2.imread(test_img_dir + '/' + im,0)\n",
    "\n",
    "\n",
    "    all_test_images[i] = my_image\n",
    "    i = i + 1    \n",
    "\n",
    "\n",
    "print(\"all_train_images.shape {0}\".format(all_train_images.shape))\n",
    "print(\"all_test_images.shape {0}\".format(all_test_images.shape))\n"
   ]
  },
  {
   "cell_type": "code",
   "execution_count": 4,
   "metadata": {},
   "outputs": [
    {
     "name": "stdout",
     "output_type": "stream",
     "text": [
      "[[ 30.  30.  30. ...  30.  30.  30.]\n",
      " [ 30.  30.  30. ...  30.  30.  30.]\n",
      " [ 30.  30.  30. ...  30.  30.  30.]\n",
      " ...\n",
      " [ 77.  73.  71. ... 194. 195. 200.]\n",
      " [ 78.  81.  82. ... 212. 212. 205.]\n",
      " [ 69.  63.  62. ... 179. 181. 185.]]\n"
     ]
    },
    {
     "data": {
      "text/plain": [
       "(-0.5, 117.5, 127.5, -0.5)"
      ]
     },
     "execution_count": 4,
     "metadata": {},
     "output_type": "execute_result"
    },
    {
     "data": {
      "image/png": "[encoded data removed]",
      "text/plain": [
       "<Figure size 432x288 with 1 Axes>"
      ]
     },
     "metadata": {},
     "output_type": "display_data"
    }
   ],
   "source": [
    "\n",
    "# look at the image\n",
    "#plt.imshow(my_image)\n",
    "\n",
    "\n",
    "\n",
    "sample_number = 12\n",
    "print(all_train_images[sample_number])\n",
    "plt.imshow(all_train_images[sample_number], cmap=\"gray_r\")\n",
    "plt.axis('off')"
   ]
  },
  {
   "cell_type": "code",
   "execution_count": 4,
   "metadata": {},
   "outputs": [
    {
     "name": "stdout",
     "output_type": "stream",
     "text": [
      "\n",
      "**************************\n",
      "all_train_images.shape (988, 128, 118)\n",
      "data_train shape (988, 15104)\n",
      "[[ 38.  47.  51. ... 179. 184. 197.]\n",
      " [ 30.  30.  30. ... 177. 183. 196.]\n",
      " [ 62.  61.  64. ... 180. 187. 204.]\n",
      " ...\n",
      " [ 30.  30.  30. ... 180. 186. 200.]\n",
      " [ 67.  68.  66. ... 152. 159. 179.]\n",
      " [ 74.  61.  46. ... 153. 165. 159.]]\n",
      "**************************\n",
      "\n",
      "\n",
      "**************************\n",
      "all_test_images.shape (659, 128, 118)\n",
      "data_test shape (659, 15104)\n",
      "[[ 84.  81.  77. ... 179. 179. 172.]\n",
      " [ 30.  30.  30. ... 180. 181. 180.]\n",
      " [ 30.  30.  30. ... 152. 153. 148.]\n",
      " ...\n",
      " [ 56.  61.  62. ... 180. 180. 174.]\n",
      " [ 30.  30.  30. ... 179. 188. 205.]\n",
      " [ 70.  71.  69. ... 152. 154. 162.]]\n",
      "**************************\n",
      "\n"
     ]
    }
   ],
   "source": [
    "# To apply a classifier on this data, we need to flatten the image, to\n",
    "# turn the data in a (samples, feature) matrix:\n",
    "\n",
    "print(\"\\n**************************\")\n",
    "n_samples = len(all_train_images)\n",
    "\n",
    "print(\"all_train_images.shape {0}\".format(all_train_images.shape))\n",
    "data_train = all_train_images.reshape((n_samples, 15104)) #988, 15104, 4\n",
    "\n",
    "print(\"data_train shape {0}\".format(data_train.shape))\n",
    "print(data_train[:10])\n",
    "\n",
    "print(\"**************************\\n\")\n",
    "\n",
    "\n",
    "print(\"\\n**************************\")\n",
    "n_samples = len(all_test_images)\n",
    "\n",
    "print(\"all_test_images.shape {0}\".format(all_test_images.shape))\n",
    "data_test = all_test_images.reshape((n_samples, 15104)) #988, 15104, 4\n",
    "\n",
    "print(\"data_test shape {0}\".format(data_test.shape))\n",
    "print(data_test[:10])\n",
    "\n",
    "print(\"**************************\\n\")"
   ]
  },
  {
   "cell_type": "code",
   "execution_count": 5,
   "metadata": {},
   "outputs": [
    {
     "name": "stdout",
     "output_type": "stream",
     "text": [
      "988\n",
      "(988, 2)\n"
     ]
    }
   ],
   "source": [
    "from numpy import genfromtxt\n",
    "\n",
    "\n",
    "train_labels_dir = os.getcwd() + '/'\n",
    "\n",
    "train_labels = genfromtxt(train_labels_dir + 'train_labels.csv', delimiter=',', skip_header=1)\n",
    "\n",
    "print(len(train_labels))\n",
    "print(train_labels.shape)"
   ]
  },
  {
   "cell_type": "markdown",
   "metadata": {},
   "source": [
    "### Split the data and prepare the text files"
   ]
  },
  {
   "cell_type": "code",
   "execution_count": 6,
   "metadata": {},
   "outputs": [
    {
     "name": "stdout",
     "output_type": "stream",
     "text": [
      "train_labels shape is : (988, 2) \n",
      "\n",
      "x_train shape is:  (691, 15104) \n",
      " y_train shape is:  (691, 2) \n",
      "\n",
      "x_test shape is:  (297, 15104) \n",
      " y_test shape is:  (297, 2)\n"
     ]
    }
   ],
   "source": [
    "from sklearn.model_selection import train_test_split\n",
    "\n",
    "x_train,x_test,y_train,y_test = train_test_split(data_train, train_labels, test_size = 0.3, random_state = 54)\n",
    "\n",
    "print('train_labels shape is :', train_labels.shape, '\\n')\n",
    "print('x_train shape is: ', x_train.shape, '\\n',\n",
    "      'y_train shape is: ', y_train.shape, '\\n')\n",
    "\n",
    "print('x_test shape is: ', x_test.shape, '\\n', \n",
    "      'y_test shape is: ', y_test.shape)"
   ]
  },
  {
   "cell_type": "code",
   "execution_count": 7,
   "metadata": {},
   "outputs": [],
   "source": [
    "# Save the data files into a format compatible with CNTK text reader\n",
    "def savetxt(filename, data, hasLabels=True, labels=0):\n",
    "    dir = os.path.dirname(filename)\n",
    "\n",
    "    if not os.path.exists(dir):\n",
    "        os.makedirs(dir)\n",
    "    \n",
    "    print(\"Saving\", filename )\n",
    "    with open(filename, 'w') as f:\n",
    "        print(\"opened....\")\n",
    "        labels_ohe = list(map(' '.join, np.eye(11, dtype=np.uint).astype(str))) #for one hot encoding\n",
    "        index = 0\n",
    "        for row in data:            \n",
    "            row_str = row.astype(str)\n",
    "            if hasLabels:                               \n",
    "                label_str = labels_ohe[int(labels[index])]               \n",
    "            \n",
    "            feature_str = ' '.join(row_str)\n",
    "            \n",
    "            if hasLabels:\n",
    "                f.write('|labels {} |features {}\\n'.format(label_str, feature_str))\n",
    "            else:\n",
    "                f.write('|features {}\\n'.format(feature_str))\n",
    "            \n",
    "            index = index + 1"
   ]
  },
  {
   "cell_type": "code",
   "execution_count": 8,
   "metadata": {},
   "outputs": [
    {
     "name": "stdout",
     "output_type": "stream",
     "text": [
      "Writing train text file...\n",
      "Saving C:\\Users\\A702628\\OneDrive - Atos\\Microsoft Capstone IA\\data/Out\\train.txt\n",
      "opened....\n",
      "Saving C:\\Users\\A702628\\OneDrive - Atos\\Microsoft Capstone IA\\data/Out\\test.txt\n",
      "opened....\n",
      "Done\n"
     ]
    }
   ],
   "source": [
    "train_labels_GT = train_labels[:,1]\n",
    "#train_labels_GT = y_train[:,1] #Get Ground truth\n",
    "#test_labels_GT = y_test[:,1]\n",
    "\n",
    "print ('Writing train text file...')\n",
    "\n",
    "data_dir = os.path.join(os.getcwd(), \"data/Out\")\n",
    "\n",
    "\n",
    "savetxt(os.path.join(data_dir, \"train.txt\"), data_train, True, train_labels_GT)\n",
    "savetxt(os.path.join(data_dir, \"test.txt\"), data_test, False)\n",
    "\n",
    "\n",
    "print(\"Done\")"
   ]
  },
  {
   "cell_type": "markdown",
   "metadata": {},
   "source": [
    "### Create Reader Deserializer"
   ]
  },
  {
   "cell_type": "code",
   "execution_count": 9,
   "metadata": {},
   "outputs": [],
   "source": [
    "# Read a CTF formatted text (as mentioned above) using the CTF deserializer from a file\n",
    "def create_reader(path, is_training, input_dim, num_label_classes):\n",
    "    \n",
    "    labelStream = C.io.StreamDef(field='labels', shape=num_label_classes, is_sparse=False)\n",
    "    featureStream = C.io.StreamDef(field='features', shape=input_dim, is_sparse=False)\n",
    "    \n",
    "    deserailizer = C.io.CTFDeserializer(path, C.io.StreamDefs(labels = labelStream, features = featureStream))\n",
    "            \n",
    "    return C.io.MinibatchSource(deserailizer,\n",
    "       randomize = is_training, max_sweeps = C.io.INFINITELY_REPEAT if is_training else 1)"
   ]
  },
  {
   "cell_type": "markdown",
   "metadata": {},
   "source": [
    "### Prepare the CNN Model"
   ]
  },
  {
   "cell_type": "code",
   "execution_count": 10,
   "metadata": {},
   "outputs": [
    {
     "name": "stderr",
     "output_type": "stream",
     "text": [
      "C:\\Users\\A702628\\AppData\\Local\\Continuum\\anaconda3\\lib\\site-packages\\cntk\\cntk_py_init.py:32: UserWarning: Unsupported Windows version (7). CNTK supports Windows 10 and above, only.\n",
      "  warnings.warn('Unsupported Windows version (%s). CNTK supports Windows 10 and above, only.' % __my_distro_ver__)\n",
      "C:\\Users\\A702628\\AppData\\Local\\Continuum\\anaconda3\\lib\\site-packages\\cntk\\cntk_py_init.py:84: UserWarning: \n",
      "\n",
      "################################################ Missing optional dependency (GPU-Specific) ################################################\n",
      "   CNTK may crash if the component that depends on those dependencies is loaded.\n",
      "   Visit https://docs.microsoft.com/en-us/cognitive-toolkit/Setup-Windows-Python#optional-gpu-specific-packages for more information.\n",
      "############################################################################################################################################\n",
      "If you intend to use CNTK without GPU support, you can ignore the (likely) GPU-specific warning!\n",
      "############################################################################################################################################\n",
      "\n",
      "  warnings.warn(WARNING_MSG_GPU_ONLY % ('GPU-Specific', 'https://docs.microsoft.com/en-us/cognitive-toolkit/Setup-Windows-Python#optional-gpu-specific-packages'))\n"
     ]
    }
   ],
   "source": [
    "from __future__ import print_function # Use a function definition from future version (say 3.x from 2.7 interpreter)\n",
    "import matplotlib.image as mpimg\n",
    "import matplotlib.pyplot as plt\n",
    "import numpy as np\n",
    "import os\n",
    "import sys\n",
    "import time\n",
    "\n",
    "import cntk as C\n",
    "\n",
    "%matplotlib inline\n",
    "\n",
    "\n",
    "# Ensure we always get the same amount of randomness\n",
    "np.random.seed(0)\n",
    "C.cntk_py.set_fixed_random_seed(1)\n",
    "C.cntk_py.force_deterministic_algorithms()\n",
    "\n",
    "# Define the data dimensions\n",
    "input_dim_model = (128, 118)    # images are 28 x 28 with 1 channel of color (gray)\n",
    "input_dim = 128*118                # used by readers to treat input data as a vector\n",
    "num_output_classes = 11"
   ]
  },
  {
   "cell_type": "markdown",
   "metadata": {},
   "source": [
    "### Define input variables"
   ]
  },
  {
   "cell_type": "code",
   "execution_count": 11,
   "metadata": {},
   "outputs": [],
   "source": [
    "x = C.input_variable(input_dim_model)\n",
    "y = C.input_variable(num_output_classes)"
   ]
  },
  {
   "cell_type": "code",
   "execution_count": 22,
   "metadata": {},
   "outputs": [
    {
     "name": "stdout",
     "output_type": "stream",
     "text": [
      "Output Shape of the first convolution layer: (8, 64, 59)\n",
      "Bias value of the last dense layer: [0. 0. 0. 0. 0. 0. 0. 0. 0. 0. 0.]\n"
     ]
    }
   ],
   "source": [
    "def create_model(features):\n",
    "    with C.layers.default_options(init=C.glorot_uniform(), activation=C.leaky_relu):\n",
    "            h = features\n",
    "            \n",
    "            h = C.layers.Convolution2D(filter_shape=(5,5), \n",
    "                                       num_filters=8, \n",
    "                                       strides=(2,2), \n",
    "                                       pad=True, name='first_conv', reduction_rank = 0)(h)\n",
    "            \n",
    "            h = C.layers.MaxPooling(filter_shape=(2,2), \n",
    "                                    strides=(2,2), name=\"first_max\")(h)   \n",
    "            \n",
    "            h = C.layers.MaxPooling(filter_shape=(3,3), \n",
    "                                    strides=(3,3), name=\"second_max\")(h)\n",
    "            \n",
    "            h = C.layers.Convolution2D(filter_shape=(5,5), \n",
    "                                       num_filters=16, \n",
    "                                       strides=(2,2), \n",
    "                                       pad=True, name='second_conv')(h) \n",
    "            \n",
    "            h = C.layers.MaxPooling(filter_shape=(3,3), \n",
    "                                    strides=(3,3), name=\"second_max\")(h)\n",
    "            \n",
    "            h = C.layers.Convolution2D(filter_shape=(1,1), \n",
    "                                       num_filters=32, \n",
    "                                       strides=(2,2), \n",
    "                                       pad=True, name='second_conv')(h) \n",
    "            \n",
    "            h = C.layers.MaxPooling(filter_shape=(1,1), \n",
    "                                    strides=(3,3), name=\"second_max\")(h)\n",
    "            \n",
    "            r = C.layers.Dense(num_output_classes, activation=None, name='classify')(h)\n",
    "            \n",
    "            return r\n",
    "        \n",
    "z = create_model(x)\n",
    "# Print the output shapes / parameters of different components\n",
    "print(\"Output Shape of the first convolution layer:\", z.first_conv.shape)\n",
    "print(\"Bias value of the last dense layer:\", z.classify.b.value)"
   ]
  },
  {
   "cell_type": "code",
   "execution_count": 23,
   "metadata": {},
   "outputs": [
    {
     "name": "stdout",
     "output_type": "stream",
     "text": [
      "Training 4331 parameters in 8 parameter tensors.\n"
     ]
    }
   ],
   "source": [
    "# Number of parameters in the network\n",
    "C.logging.log_number_of_parameters(z)"
   ]
  },
  {
   "cell_type": "code",
   "execution_count": 24,
   "metadata": {},
   "outputs": [],
   "source": [
    "def create_criterion_function(model, labels):\n",
    "    loss = C.cross_entropy_with_softmax(model, labels)\n",
    "    errs = C.classification_error(model, labels)\n",
    "    return loss, errs # (model, labels) -> (loss, error metric)\n",
    "\n",
    "# Define a utility function to compute the moving average sum.\n",
    "# A more efficient implementation is possible with np.cumsum() function\n",
    "def moving_average(a, w=5):\n",
    "    if len(a) < w:\n",
    "        return a[:]    # Need to send a copy of the array\n",
    "    return [val if idx < w else sum(a[(idx-w):idx])/w for idx, val in enumerate(a)]\n",
    "\n",
    "\n",
    "# Defines a utility that prints the training progress\n",
    "def print_training_progress(trainer, mb, frequency, verbose=1):\n",
    "    training_loss = \"NA\"\n",
    "    eval_error = \"NA\"\n",
    "\n",
    "    if mb%frequency == 0:\n",
    "        training_loss = trainer.previous_minibatch_loss_average\n",
    "        eval_error = trainer.previous_minibatch_evaluation_average\n",
    "        if verbose: \n",
    "            print (\"Minibatch: {0}, Loss: {1:.4f}, Error: {2:.2f}%\".format(mb, training_loss, eval_error*100))\n",
    "        \n",
    "    return mb, training_loss, eval_error"
   ]
  },
  {
   "cell_type": "markdown",
   "metadata": {},
   "source": [
    "### Train_test function"
   ]
  },
  {
   "cell_type": "code",
   "execution_count": 30,
   "metadata": {},
   "outputs": [],
   "source": [
    "\n",
    "def train_test(train_reader, test_reader, model_func, num_sweeps_to_train_with=10):\n",
    "    \n",
    "    # Instantiate the model function; x is the input (feature) variable \n",
    "    # We will scale the input image pixels within 0-1 range by dividing all input value by 255.\n",
    "    model = model_func(x/255)\n",
    "    \n",
    "    # Instantiate the loss and error function\n",
    "    loss, label_error = create_criterion_function(model, y)\n",
    "    \n",
    "    # Instantiate the trainer object to drive the model training\n",
    "    learning_rate = 0.01\n",
    "    lr_schedule = C.learning_rate_schedule(learning_rate, C.UnitType.minibatch)\n",
    "    learner = C.sgd(z.parameters, lr_schedule)\n",
    "    trainer = C.Trainer(z, (loss, label_error), [learner])\n",
    "    \n",
    "    # Initialize the parameters for the trainer\n",
    "    minibatch_size = 512\n",
    "    num_samples_per_sweep = 50000\n",
    "    num_minibatches_to_train = (num_samples_per_sweep * num_sweeps_to_train_with) / minibatch_size\n",
    "    \n",
    "    # Map the data streams to the input and labels.\n",
    "    input_map={\n",
    "        y  : train_reader.streams.labels,\n",
    "        x  : train_reader.streams.features\n",
    "    } \n",
    "    \n",
    "    # Uncomment below for more detailed logging\n",
    "    training_progress_output_freq = 100\n",
    "     \n",
    "    # Start a timer\n",
    "    start = time.time()\n",
    "\n",
    "    for i in range(0, int(num_minibatches_to_train)):\n",
    "        # Read a mini batch from the training data file\n",
    "        data=train_reader.next_minibatch(minibatch_size, input_map=input_map) \n",
    "        trainer.train_minibatch(data)\n",
    "        print_training_progress(trainer, i, training_progress_output_freq, verbose=1)\n",
    "     \n",
    "    # Print training time\n",
    "    print(\"Training took {:.1f} sec\".format(time.time() - start))\n",
    "    \n",
    "    # Test the model\n",
    "    test_input_map = {\n",
    "        y  : test_reader.streams.labels,\n",
    "        x  : test_reader.streams.features\n",
    "    }\n",
    "\n",
    "    # Test data for trained model\n",
    "    test_minibatch_size = 512\n",
    "    num_samples = 5000\n",
    "    num_minibatches_to_test = num_samples // test_minibatch_size\n",
    "\n",
    "    test_result = 0.0   \n",
    "\n",
    "    for i in range(num_minibatches_to_test):\n",
    "    \n",
    "        # We are loading test data in batches specified by test_minibatch_size\n",
    "        # Each data point in the minibatch is a MNIST digit image of 784 dimensions \n",
    "        # with one pixel per dimension that we will encode / decode with the \n",
    "        # trained model.\n",
    "        data = test_reader.next_minibatch(test_minibatch_size, input_map=test_input_map)\n",
    "        eval_error = trainer.test_minibatch(data, device = None)\n",
    "        test_result = test_result + eval_error\n",
    "\n",
    "    # Average of evaluation errors of all test minibatches\n",
    "    print(\"Average test error: {0:.2f}%\".format(test_result*100 / num_minibatches_to_test))"
   ]
  },
  {
   "cell_type": "code",
   "execution_count": 31,
   "metadata": {},
   "outputs": [],
   "source": [
    "train_file = 'data/out/train.txt'\n",
    "test_file = 'data/out/test.txt'"
   ]
  },
  {
   "cell_type": "code",
   "execution_count": null,
   "metadata": {},
   "outputs": [
    {
     "name": "stdout",
     "output_type": "stream",
     "text": [
      "Minibatch: 0, Loss: 2.3964, Error: 90.23%\n",
      "Minibatch: 100, Loss: 2.3698, Error: 85.35%\n",
      "Minibatch: 200, Loss: 2.3557, Error: 88.28%\n",
      "Minibatch: 300, Loss: 2.3404, Error: 86.91%\n",
      "Minibatch: 400, Loss: 2.3149, Error: 88.28%\n",
      "Minibatch: 500, Loss: 2.2890, Error: 75.98%\n",
      "Minibatch: 600, Loss: 2.2764, Error: 77.34%\n"
     ]
    }
   ],
   "source": [
    "\n",
    "def do_train_test():\n",
    "    global z\n",
    "    z = create_model(x)\n",
    "    reader_train = create_reader(train_file, True, input_dim, num_output_classes)\n",
    "    reader_test = create_reader(test_file, False, input_dim, num_output_classes)\n",
    "    train_test(reader_train, reader_test, z)\n",
    "    \n",
    "do_train_test()\n",
    "\n",
    "\n",
    "print(\"Bias value of the last dense layer:\", z.classify.b.value)"
   ]
  },
  {
   "cell_type": "code",
   "execution_count": null,
   "metadata": {},
   "outputs": [],
   "source": []
  },
  {
   "cell_type": "markdown",
   "metadata": {},
   "source": [
    "### Prepare for model evaluation"
   ]
  },
  {
   "cell_type": "code",
   "execution_count": 20,
   "metadata": {},
   "outputs": [],
   "source": [
    "out = C.softmax(z)"
   ]
  },
  {
   "cell_type": "markdown",
   "metadata": {},
   "source": [
    "### Modify the save_text function to avoid malformed input file error"
   ]
  },
  {
   "cell_type": "code",
   "execution_count": 21,
   "metadata": {},
   "outputs": [],
   "source": [
    "# Save the data files into a format compatible with CNTK text reader\n",
    "def savetxt(filename, data, hasLabels=True, labels=0):\n",
    "    dir = os.path.dirname(filename)\n",
    "\n",
    "    if not os.path.exists(dir):\n",
    "        os.makedirs(dir)\n",
    "    \n",
    "    print(\"Saving\", filename )\n",
    "    with open(filename, 'w') as f:\n",
    "        print(\"opened....\")\n",
    "        labels_ohe = list(map(' '.join, np.eye(11, dtype=np.uint).astype(str))) #for one hot encoding\n",
    "        index = 0\n",
    "        for row in data:            \n",
    "            row_str = row.astype(str)\n",
    "            if hasLabels:                               \n",
    "                label_str = labels_ohe[int(labels[index])]               \n",
    "            \n",
    "            feature_str = ' '.join(row_str)\n",
    "            \n",
    "            if hasLabels:\n",
    "                f.write('|labels {} |features {}\\n'.format(label_str, feature_str))\n",
    "            else:\n",
    "                f.write('|labels {} |features {}\\n'.format(labels_ohe[1], feature_str))\n",
    "\n",
    "            \n",
    "            index = index + 1"
   ]
  },
  {
   "cell_type": "markdown",
   "metadata": {},
   "source": [
    "### Create the model evaluation file"
   ]
  },
  {
   "cell_type": "code",
   "execution_count": 22,
   "metadata": {},
   "outputs": [
    {
     "name": "stdout",
     "output_type": "stream",
     "text": [
      "Writing train text file...\n",
      "Saving C:\\Users\\A702628\\OneDrive - Atos\\Microsoft Capstone IA\\data/Out\\test_eval.txt\n",
      "opened....\n",
      "Done\n"
     ]
    }
   ],
   "source": [
    "print ('Writing train text file...')\n",
    "\n",
    "data_dir = os.path.join(os.getcwd(), \"data/Out\")\n",
    "\n",
    "\n",
    "savetxt(os.path.join(data_dir, \"test_eval.txt\"), data_test, False)\n",
    "\n",
    "\n",
    "print(\"Done\")"
   ]
  },
  {
   "cell_type": "code",
   "execution_count": 24,
   "metadata": {},
   "outputs": [],
   "source": [
    "# Read the data for evaluation\n",
    "eval_file = 'data/Out/test_eval.txt'\n",
    "reader_eval=create_reader(eval_file, False, input_dim, num_output_classes)\n",
    "\n",
    "eval_minibatch_size = 659\n",
    "eval_input_map = {x: reader_eval.streams.features, y:reader_eval.streams.labels} \n",
    "\n",
    "data = reader_eval.next_minibatch(eval_minibatch_size, input_map=eval_input_map)\n",
    "\n",
    "img_label = data[y].asarray()\n",
    "img_data = data[x].asarray()"
   ]
  },
  {
   "cell_type": "markdown",
   "metadata": {},
   "source": [
    "### Make Predictions"
   ]
  },
  {
   "cell_type": "code",
   "execution_count": 25,
   "metadata": {},
   "outputs": [
    {
     "name": "stdout",
     "output_type": "stream",
     "text": [
      "Label    : [1, 1, 1, 1, 1, 1, 1, 1, 1, 1, 1, 1, 1, 1, 1, 1, 1, 1, 1, 1, 1, 1, 1, 1, 1]\n",
      "Predicted: [0, 0, 2, 2, 2, 5, 2, 2, 2, 0, 2, 5, 5, 2, 0, 5, 5, 2, 5, 0, 0, 0, 2, 2, 2, 0, 0, 0, 0, 5, 0, 0, 5, 0, 2, 2, 2, 0, 2, 0, 2, 5, 0, 0, 0, 2, 5, 6, 5, 0, 2, 5, 5, 5, 2, 5, 0, 0, 2, 0, 0, 0, 5, 0, 2, 2, 2, 2, 0, 0, 0, 2, 2, 5, 0, 2, 0, 2, 0, 0, 0, 2, 8, 5, 2, 0, 5, 0, 5, 5, 0, 2, 2, 0, 6, 5, 0, 2, 2, 0, 0, 2, 2, 2, 0, 2, 0, 5, 0, 0, 0, 0, 5, 5, 0, 2, 2, 0, 2, 2, 5, 5, 0, 5, 2, 0, 2, 2, 2, 0, 2, 0, 2, 0, 2, 0, 2, 2, 0, 2, 2, 2, 2, 0, 0, 2, 8, 2, 0, 0, 2, 0, 0, 5, 5, 5, 2, 0, 5, 2, 0, 5, 0, 0, 0, 2, 2, 0, 5, 2, 2, 2, 2, 2, 5, 0, 5, 2, 0, 5, 2, 5, 6, 0, 0, 5, 5, 0, 0, 0, 2, 0, 0, 2, 0, 5, 0, 0, 5, 0, 0, 0, 5, 2, 0, 2, 0, 2, 5, 2, 0, 5, 0, 5, 0, 5, 2, 2, 2, 5, 0, 2, 0, 5, 0, 2, 2, 0, 3, 0, 5, 0, 3, 2, 5, 2, 7, 2, 2, 2, 0, 0, 5, 0, 5, 0, 0, 5, 5, 5, 2, 0, 5, 2, 2, 0, 0, 2, 2, 2, 0, 5, 0, 0, 2, 0, 0, 2, 0, 0, 5, 0, 0, 5, 2, 0, 0, 5, 0, 0, 2, 8, 0, 2, 2, 2, 2, 0, 2, 5, 5, 0, 0, 5, 2, 0, 0, 2, 5, 2, 5, 2, 5, 2, 2, 0, 2, 5, 0, 0, 5, 0, 2, 5, 0, 0, 5, 2, 0, 2, 0, 2, 2, 0, 0, 0, 0, 2, 2, 0, 2, 5, 0, 7, 2, 0, 2, 5, 0, 2, 3, 2, 0, 2, 5, 0, 2, 5, 0, 2, 0, 5, 2, 2, 2, 0, 2, 0, 2, 2, 0, 5, 5, 2, 0, 6, 2, 0, 2, 0, 2, 0, 0, 5, 2, 5, 5, 2, 0, 2, 5, 7, 2, 2, 0, 0, 0, 0, 2, 2, 5, 2, 0, 2, 5, 5, 0, 2, 0, 5, 0, 2, 0, 0, 5, 2, 7, 2, 2, 7, 2, 2, 0, 5, 5, 2, 0, 2, 2, 5, 0, 2, 2, 5, 8, 0, 5, 2, 0, 0, 5, 5, 2, 2, 0, 5, 2, 5, 0, 0, 0, 0, 2, 6, 2, 5, 6, 0, 5, 0, 2, 2, 2, 2, 0, 5, 5, 0, 0, 0, 0, 0, 5, 0, 2, 2, 0, 2, 0, 0, 8, 2, 1, 5, 0, 0, 2, 5, 0, 2, 0, 0, 2, 2, 0, 0, 2, 5, 2, 0, 0, 0, 2, 0, 2, 5, 2, 0, 2, 0, 2, 2, 2, 0, 2, 2, 0, 0, 0, 2, 0, 2, 2, 0, 2, 2, 2, 2, 0, 0, 2, 5, 2, 0, 8, 3, 0, 2, 2, 2, 8, 0, 2, 0, 0, 2, 2, 0, 0, 0, 0, 5, 2, 0, 5, 0, 6, 2, 2, 2, 0, 6, 0, 0, 0, 5, 0, 0, 0, 2, 5, 2, 5, 5, 2, 2, 0, 2, 2, 10, 0, 0, 5, 0, 2, 2, 2, 0, 5, 5, 0, 5, 2, 2, 0, 0, 2, 5, 0, 2, 2, 0, 5, 0, 6, 0, 0, 5, 2, 2, 0, 0, 0, 0, 0, 2, 0, 2, 0, 5, 2, 2, 0, 0, 2, 5, 2, 2, 2, 2, 0, 2, 0, 2, 2, 2, 0, 2, 0, 5, 2, 0, 2, 2, 2, 0, 0, 5, 5, 0, 5, 2, 5, 2, 2, 0, 0, 2, 0, 2, 2, 2, 5, 2, 0, 5, 2, 5, 2]\n"
     ]
    }
   ],
   "source": [
    "# reshape img_data to: M x 1 x 128 x 118 to be compatible with model\n",
    "img_data = np.reshape(img_data, (eval_minibatch_size, 1, 128, 118))\n",
    "\n",
    "predicted_label_prob = [out.eval(img_data[i]) for i in range(len(img_data))]\n",
    "\n",
    "\n",
    "# Find the index with the maximum value for both predicted as well as the ground truth\n",
    "pred = [np.argmax(predicted_label_prob[i]) for i in range(len(predicted_label_prob))]\n",
    "gtlabel = [np.argmax(img_label[i]) for i in range(len(img_label))]\n",
    "\n",
    "\n",
    "print(\"Label    :\", gtlabel[:25])\n",
    "print(\"Predicted:\", pred)"
   ]
  },
  {
   "cell_type": "markdown",
   "metadata": {},
   "source": [
    "# Optionally modify model"
   ]
  },
  {
   "cell_type": "code",
   "execution_count": null,
   "metadata": {},
   "outputs": [],
   "source": [
    "'''from cntk.layers.layers import AveragePooling\n",
    "\n",
    "def create_model(features):\n",
    "    with C.layers.default_options(init = C.glorot_uniform(), activation = C.relu):\n",
    "            h = features\n",
    "            \n",
    "            h = C.layers.Convolution2D(filter_shape=(5,5), \n",
    "                                       num_filters=8, \n",
    "                                       strides=(1,1), \n",
    "                                       pad=True, name='first_conv')(h)\n",
    "            \n",
    "            p =  AveragePooling((3,3), strides=1)\n",
    "            \n",
    "            ph = p(h)\n",
    "            \n",
    "            h = C.layers.Convolution2D(filter_shape=(5,5), \n",
    "                                       num_filters=16, \n",
    "                                       strides=(1,1), \n",
    "                                       pad=True, name='second_conv')(h)\n",
    "            \n",
    "            p =  AveragePooling((3,3), strides=1)\n",
    "            \n",
    "            ph = p(h)\n",
    "            \n",
    "            r = C.layers.Dense(num_output_classes, activation = None, name='classify')(h)\n",
    "            return r'''"
   ]
  },
  {
   "cell_type": "markdown",
   "metadata": {},
   "source": [
    "### Optionally train the model on the whole data"
   ]
  },
  {
   "cell_type": "code",
   "execution_count": null,
   "metadata": {},
   "outputs": [],
   "source": [
    "'''# Save the data files into a format compatible with CNTK text reader\n",
    "def savetxt(filename, data, hasLabels=True, labels=0):\n",
    "    dir = os.path.dirname(filename)\n",
    "\n",
    "    if not os.path.exists(dir):\n",
    "        os.makedirs(dir)\n",
    "    \n",
    "    print(\"Saving\", filename )\n",
    "    with open(filename, 'w') as f:\n",
    "        print(\"opened....\")\n",
    "        labels_ohe = list(map(' '.join, np.eye(11, dtype=np.uint).astype(str))) #for one hot encoding\n",
    "        index = 0\n",
    "        for row in data:            \n",
    "            row_str = row.astype(str)\n",
    "            if hasLabels:                               \n",
    "                label_str = labels_ohe[int(labels[index])]               \n",
    "            \n",
    "            feature_str = ' '.join(row_str)\n",
    "            \n",
    "            if hasLabels:\n",
    "                f.write('|labels {} |features {}\\n'.format(label_str, feature_str))\n",
    "            else:\n",
    "                f.write('|labels {} |features {}\\n'.format(labels_ohe[1], feature_str))\n",
    "\n",
    "            \n",
    "            index = index + 1\n",
    "\n",
    "\n",
    "\n",
    "train_labels_GT = train_labels[:,1] #Get Ground truth\n",
    "\n",
    "\n",
    "print ('Writing train text file...')\n",
    "\n",
    "data_dir = os.path.join(os.getcwd(), \"data/Out\")\n",
    "\n",
    "\n",
    "savetxt(os.path.join(data_dir, \"train.txt\"), data_train, True, train_labels_GT)\n",
    "savetxt(os.path.join(data_dir, \"test.txt\"), data_test, False)\n",
    "\n",
    "\n",
    "print(\"Done\")\n",
    "\n",
    "do_train_test()'''"
   ]
  },
  {
   "cell_type": "markdown",
   "metadata": {},
   "source": [
    "### Optionally make predictions again from the new model"
   ]
  },
  {
   "cell_type": "code",
   "execution_count": null,
   "metadata": {},
   "outputs": [],
   "source": [
    "'''# reshape img_data to: M x 1 x 128 x 118 to be compatible with model\n",
    "img_data = np.reshape(img_data, (eval_minibatch_size, 1, 128, 118))\n",
    "\n",
    "predicted_label_prob = [out.eval(img_data[i]) for i in range(len(img_data))]\n",
    "\n",
    "\n",
    "# Find the index with the maximum value for both predicted as well as the ground truth\n",
    "pred = [np.argmax(predicted_label_prob[i]) for i in range(len(predicted_label_prob))]\n",
    "gtlabel = [np.argmax(img_label[i]) for i in range(len(img_label))]\n",
    "\n",
    "\n",
    "print(\"Label    :\", gtlabel[:25])\n",
    "print(\"Predicted:\", pred)'''"
   ]
  },
  {
   "cell_type": "markdown",
   "metadata": {},
   "source": [
    "### Save predictions"
   ]
  },
  {
   "cell_type": "code",
   "execution_count": 26,
   "metadata": {},
   "outputs": [],
   "source": [
    "import pandas as pd\n",
    "id_labels = pd.read_csv('test_labels.csv')\n",
    "predictions = pd.DataFrame(data = pred, columns = ['appliance'])\n",
    "predictions['id'] = id_labels['names']\n",
    "predictions = predictions[['id', 'appliance']]\n",
    "\n",
    "\n",
    "#SAVE CSV\n",
    "predictions.to_csv('Predictions.csv', index = None)"
   ]
  },
  {
   "cell_type": "code",
   "execution_count": null,
   "metadata": {},
   "outputs": [],
   "source": []
  }
 ],
 "metadata": {
  "kernelspec": {
   "display_name": "Python 3",
   "language": "python",
   "name": "python3"
  },
  "language_info": {
   "codemirror_mode": {
    "name": "ipython",
    "version": 3
   },
   "file_extension": ".py",
   "mimetype": "text/x-python",
   "name": "python",
   "nbconvert_exporter": "python",
   "pygments_lexer": "ipython3",
   "version": "3.6.6"
  }
 },
 "nbformat": 4,
 "nbformat_minor": 2
}
